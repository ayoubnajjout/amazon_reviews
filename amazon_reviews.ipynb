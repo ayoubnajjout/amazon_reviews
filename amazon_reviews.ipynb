{
  "nbformat": 4,
  "nbformat_minor": 0,
  "metadata": {
    "colab": {
      "provenance": [],
      "collapsed_sections": [
        "S8UEAbpohDzx",
        "T_zD-72ohNef",
        "QslrgyCthd7Q",
        "sPTojsf9hual",
        "vsyM6EwRh9Sa",
        "vsoxXlyWiC3j",
        "R0-8DZ8niPL0",
        "As0aX4jGiens",
        "cpoDW8GUikS4",
        "fybTMx_hi7M5",
        "Nfo2YsD1jHyE",
        "nYQIZinMjMPd",
        "wX9B_Y-QjbrQ",
        "wXbATLpWkG2d",
        "8o4KhyWfkjsx",
        "c9ED2OJRkmNE",
        "nqMU1-7Nk2XL",
        "SqiR0G4imqcm",
        "DLGX00xanT91",
        "xf0Td1Z-oaw-",
        "ROg61JZPovqJ"
      ]
    },
    "kernelspec": {
      "name": "python3",
      "display_name": "Python 3"
    },
    "language_info": {
      "name": "python"
    }
  },
  "cells": [
    {
      "cell_type": "markdown",
      "source": [
        "# Analyse des données"
      ],
      "metadata": {
        "id": "98-NW-QGzGez"
      }
    },
    {
      "cell_type": "code",
      "source": [
        "import pandas as pd\n",
        "import matplotlib.pyplot as plt\n",
        "\n",
        "\n",
        "# Charger le fichier JSON\n",
        "df = pd.read_json(\"Data.json\", lines=True)\n",
        "\n",
        "# Afficher les 5 premières lignes\n",
        "df.head()"
      ],
      "metadata": {
        "colab": {
          "base_uri": "https://localhost:8080/",
          "height": 504
        },
        "id": "qMfwAf2IzNZM",
        "outputId": "5e7c3b37-66e5-4acd-8e37-d5cece430fd3"
      },
      "execution_count": 26,
      "outputs": [
        {
          "output_type": "execute_result",
          "data": {
            "text/plain": [
              "       reviewerID        asin  \\\n",
              "0  A2IBPI20UZIR0U  1384719342   \n",
              "1  A14VAT5EAX3D9S  1384719342   \n",
              "2  A195EZSQDW3E21  1384719342   \n",
              "3  A2C00NNG1ZQQG2  1384719342   \n",
              "4   A94QU4C90B1AX  1384719342   \n",
              "\n",
              "                                       reviewerName   helpful  \\\n",
              "0  cassandra tu \"Yeah, well, that's just like, u...    [0, 0]   \n",
              "1                                              Jake  [13, 14]   \n",
              "2                     Rick Bennette \"Rick Bennette\"    [1, 1]   \n",
              "3                         RustyBill \"Sunday Rocker\"    [0, 0]   \n",
              "4                                     SEAN MASLANKA    [0, 0]   \n",
              "\n",
              "                                          reviewText  overall  \\\n",
              "0  Not much to write about here, but it does exac...        5   \n",
              "1  The product does exactly as it should and is q...        5   \n",
              "2  The primary job of this device is to block the...        5   \n",
              "3  Nice windscreen protects my MXL mic and preven...        5   \n",
              "4  This pop filter is great. It looks and perform...        5   \n",
              "\n",
              "                                 summary  unixReviewTime   reviewTime  \n",
              "0                                   good      1393545600  02 28, 2014  \n",
              "1                                   Jake      1363392000  03 16, 2013  \n",
              "2                   It Does The Job Well      1377648000  08 28, 2013  \n",
              "3          GOOD WINDSCREEN FOR THE MONEY      1392336000  02 14, 2014  \n",
              "4  No more pops when I record my vocals.      1392940800  02 21, 2014  "
            ],
            "text/html": [
              "\n",
              "  <div id=\"df-6e89bc00-4967-44cf-ba63-2f3440c080f8\" class=\"colab-df-container\">\n",
              "    <div>\n",
              "<style scoped>\n",
              "    .dataframe tbody tr th:only-of-type {\n",
              "        vertical-align: middle;\n",
              "    }\n",
              "\n",
              "    .dataframe tbody tr th {\n",
              "        vertical-align: top;\n",
              "    }\n",
              "\n",
              "    .dataframe thead th {\n",
              "        text-align: right;\n",
              "    }\n",
              "</style>\n",
              "<table border=\"1\" class=\"dataframe\">\n",
              "  <thead>\n",
              "    <tr style=\"text-align: right;\">\n",
              "      <th></th>\n",
              "      <th>reviewerID</th>\n",
              "      <th>asin</th>\n",
              "      <th>reviewerName</th>\n",
              "      <th>helpful</th>\n",
              "      <th>reviewText</th>\n",
              "      <th>overall</th>\n",
              "      <th>summary</th>\n",
              "      <th>unixReviewTime</th>\n",
              "      <th>reviewTime</th>\n",
              "    </tr>\n",
              "  </thead>\n",
              "  <tbody>\n",
              "    <tr>\n",
              "      <th>0</th>\n",
              "      <td>A2IBPI20UZIR0U</td>\n",
              "      <td>1384719342</td>\n",
              "      <td>cassandra tu \"Yeah, well, that's just like, u...</td>\n",
              "      <td>[0, 0]</td>\n",
              "      <td>Not much to write about here, but it does exac...</td>\n",
              "      <td>5</td>\n",
              "      <td>good</td>\n",
              "      <td>1393545600</td>\n",
              "      <td>02 28, 2014</td>\n",
              "    </tr>\n",
              "    <tr>\n",
              "      <th>1</th>\n",
              "      <td>A14VAT5EAX3D9S</td>\n",
              "      <td>1384719342</td>\n",
              "      <td>Jake</td>\n",
              "      <td>[13, 14]</td>\n",
              "      <td>The product does exactly as it should and is q...</td>\n",
              "      <td>5</td>\n",
              "      <td>Jake</td>\n",
              "      <td>1363392000</td>\n",
              "      <td>03 16, 2013</td>\n",
              "    </tr>\n",
              "    <tr>\n",
              "      <th>2</th>\n",
              "      <td>A195EZSQDW3E21</td>\n",
              "      <td>1384719342</td>\n",
              "      <td>Rick Bennette \"Rick Bennette\"</td>\n",
              "      <td>[1, 1]</td>\n",
              "      <td>The primary job of this device is to block the...</td>\n",
              "      <td>5</td>\n",
              "      <td>It Does The Job Well</td>\n",
              "      <td>1377648000</td>\n",
              "      <td>08 28, 2013</td>\n",
              "    </tr>\n",
              "    <tr>\n",
              "      <th>3</th>\n",
              "      <td>A2C00NNG1ZQQG2</td>\n",
              "      <td>1384719342</td>\n",
              "      <td>RustyBill \"Sunday Rocker\"</td>\n",
              "      <td>[0, 0]</td>\n",
              "      <td>Nice windscreen protects my MXL mic and preven...</td>\n",
              "      <td>5</td>\n",
              "      <td>GOOD WINDSCREEN FOR THE MONEY</td>\n",
              "      <td>1392336000</td>\n",
              "      <td>02 14, 2014</td>\n",
              "    </tr>\n",
              "    <tr>\n",
              "      <th>4</th>\n",
              "      <td>A94QU4C90B1AX</td>\n",
              "      <td>1384719342</td>\n",
              "      <td>SEAN MASLANKA</td>\n",
              "      <td>[0, 0]</td>\n",
              "      <td>This pop filter is great. It looks and perform...</td>\n",
              "      <td>5</td>\n",
              "      <td>No more pops when I record my vocals.</td>\n",
              "      <td>1392940800</td>\n",
              "      <td>02 21, 2014</td>\n",
              "    </tr>\n",
              "  </tbody>\n",
              "</table>\n",
              "</div>\n",
              "    <div class=\"colab-df-buttons\">\n",
              "\n",
              "  <div class=\"colab-df-container\">\n",
              "    <button class=\"colab-df-convert\" onclick=\"convertToInteractive('df-6e89bc00-4967-44cf-ba63-2f3440c080f8')\"\n",
              "            title=\"Convert this dataframe to an interactive table.\"\n",
              "            style=\"display:none;\">\n",
              "\n",
              "  <svg xmlns=\"http://www.w3.org/2000/svg\" height=\"24px\" viewBox=\"0 -960 960 960\">\n",
              "    <path d=\"M120-120v-720h720v720H120Zm60-500h600v-160H180v160Zm220 220h160v-160H400v160Zm0 220h160v-160H400v160ZM180-400h160v-160H180v160Zm440 0h160v-160H620v160ZM180-180h160v-160H180v160Zm440 0h160v-160H620v160Z\"/>\n",
              "  </svg>\n",
              "    </button>\n",
              "\n",
              "  <style>\n",
              "    .colab-df-container {\n",
              "      display:flex;\n",
              "      gap: 12px;\n",
              "    }\n",
              "\n",
              "    .colab-df-convert {\n",
              "      background-color: #E8F0FE;\n",
              "      border: none;\n",
              "      border-radius: 50%;\n",
              "      cursor: pointer;\n",
              "      display: none;\n",
              "      fill: #1967D2;\n",
              "      height: 32px;\n",
              "      padding: 0 0 0 0;\n",
              "      width: 32px;\n",
              "    }\n",
              "\n",
              "    .colab-df-convert:hover {\n",
              "      background-color: #E2EBFA;\n",
              "      box-shadow: 0px 1px 2px rgba(60, 64, 67, 0.3), 0px 1px 3px 1px rgba(60, 64, 67, 0.15);\n",
              "      fill: #174EA6;\n",
              "    }\n",
              "\n",
              "    .colab-df-buttons div {\n",
              "      margin-bottom: 4px;\n",
              "    }\n",
              "\n",
              "    [theme=dark] .colab-df-convert {\n",
              "      background-color: #3B4455;\n",
              "      fill: #D2E3FC;\n",
              "    }\n",
              "\n",
              "    [theme=dark] .colab-df-convert:hover {\n",
              "      background-color: #434B5C;\n",
              "      box-shadow: 0px 1px 3px 1px rgba(0, 0, 0, 0.15);\n",
              "      filter: drop-shadow(0px 1px 2px rgba(0, 0, 0, 0.3));\n",
              "      fill: #FFFFFF;\n",
              "    }\n",
              "  </style>\n",
              "\n",
              "    <script>\n",
              "      const buttonEl =\n",
              "        document.querySelector('#df-6e89bc00-4967-44cf-ba63-2f3440c080f8 button.colab-df-convert');\n",
              "      buttonEl.style.display =\n",
              "        google.colab.kernel.accessAllowed ? 'block' : 'none';\n",
              "\n",
              "      async function convertToInteractive(key) {\n",
              "        const element = document.querySelector('#df-6e89bc00-4967-44cf-ba63-2f3440c080f8');\n",
              "        const dataTable =\n",
              "          await google.colab.kernel.invokeFunction('convertToInteractive',\n",
              "                                                    [key], {});\n",
              "        if (!dataTable) return;\n",
              "\n",
              "        const docLinkHtml = 'Like what you see? Visit the ' +\n",
              "          '<a target=\"_blank\" href=https://colab.research.google.com/notebooks/data_table.ipynb>data table notebook</a>'\n",
              "          + ' to learn more about interactive tables.';\n",
              "        element.innerHTML = '';\n",
              "        dataTable['output_type'] = 'display_data';\n",
              "        await google.colab.output.renderOutput(dataTable, element);\n",
              "        const docLink = document.createElement('div');\n",
              "        docLink.innerHTML = docLinkHtml;\n",
              "        element.appendChild(docLink);\n",
              "      }\n",
              "    </script>\n",
              "  </div>\n",
              "\n",
              "\n",
              "    <div id=\"df-6cb46fde-8758-4abd-968b-b7ae5b95f728\">\n",
              "      <button class=\"colab-df-quickchart\" onclick=\"quickchart('df-6cb46fde-8758-4abd-968b-b7ae5b95f728')\"\n",
              "                title=\"Suggest charts\"\n",
              "                style=\"display:none;\">\n",
              "\n",
              "<svg xmlns=\"http://www.w3.org/2000/svg\" height=\"24px\"viewBox=\"0 0 24 24\"\n",
              "     width=\"24px\">\n",
              "    <g>\n",
              "        <path d=\"M19 3H5c-1.1 0-2 .9-2 2v14c0 1.1.9 2 2 2h14c1.1 0 2-.9 2-2V5c0-1.1-.9-2-2-2zM9 17H7v-7h2v7zm4 0h-2V7h2v10zm4 0h-2v-4h2v4z\"/>\n",
              "    </g>\n",
              "</svg>\n",
              "      </button>\n",
              "\n",
              "<style>\n",
              "  .colab-df-quickchart {\n",
              "      --bg-color: #E8F0FE;\n",
              "      --fill-color: #1967D2;\n",
              "      --hover-bg-color: #E2EBFA;\n",
              "      --hover-fill-color: #174EA6;\n",
              "      --disabled-fill-color: #AAA;\n",
              "      --disabled-bg-color: #DDD;\n",
              "  }\n",
              "\n",
              "  [theme=dark] .colab-df-quickchart {\n",
              "      --bg-color: #3B4455;\n",
              "      --fill-color: #D2E3FC;\n",
              "      --hover-bg-color: #434B5C;\n",
              "      --hover-fill-color: #FFFFFF;\n",
              "      --disabled-bg-color: #3B4455;\n",
              "      --disabled-fill-color: #666;\n",
              "  }\n",
              "\n",
              "  .colab-df-quickchart {\n",
              "    background-color: var(--bg-color);\n",
              "    border: none;\n",
              "    border-radius: 50%;\n",
              "    cursor: pointer;\n",
              "    display: none;\n",
              "    fill: var(--fill-color);\n",
              "    height: 32px;\n",
              "    padding: 0;\n",
              "    width: 32px;\n",
              "  }\n",
              "\n",
              "  .colab-df-quickchart:hover {\n",
              "    background-color: var(--hover-bg-color);\n",
              "    box-shadow: 0 1px 2px rgba(60, 64, 67, 0.3), 0 1px 3px 1px rgba(60, 64, 67, 0.15);\n",
              "    fill: var(--button-hover-fill-color);\n",
              "  }\n",
              "\n",
              "  .colab-df-quickchart-complete:disabled,\n",
              "  .colab-df-quickchart-complete:disabled:hover {\n",
              "    background-color: var(--disabled-bg-color);\n",
              "    fill: var(--disabled-fill-color);\n",
              "    box-shadow: none;\n",
              "  }\n",
              "\n",
              "  .colab-df-spinner {\n",
              "    border: 2px solid var(--fill-color);\n",
              "    border-color: transparent;\n",
              "    border-bottom-color: var(--fill-color);\n",
              "    animation:\n",
              "      spin 1s steps(1) infinite;\n",
              "  }\n",
              "\n",
              "  @keyframes spin {\n",
              "    0% {\n",
              "      border-color: transparent;\n",
              "      border-bottom-color: var(--fill-color);\n",
              "      border-left-color: var(--fill-color);\n",
              "    }\n",
              "    20% {\n",
              "      border-color: transparent;\n",
              "      border-left-color: var(--fill-color);\n",
              "      border-top-color: var(--fill-color);\n",
              "    }\n",
              "    30% {\n",
              "      border-color: transparent;\n",
              "      border-left-color: var(--fill-color);\n",
              "      border-top-color: var(--fill-color);\n",
              "      border-right-color: var(--fill-color);\n",
              "    }\n",
              "    40% {\n",
              "      border-color: transparent;\n",
              "      border-right-color: var(--fill-color);\n",
              "      border-top-color: var(--fill-color);\n",
              "    }\n",
              "    60% {\n",
              "      border-color: transparent;\n",
              "      border-right-color: var(--fill-color);\n",
              "    }\n",
              "    80% {\n",
              "      border-color: transparent;\n",
              "      border-right-color: var(--fill-color);\n",
              "      border-bottom-color: var(--fill-color);\n",
              "    }\n",
              "    90% {\n",
              "      border-color: transparent;\n",
              "      border-bottom-color: var(--fill-color);\n",
              "    }\n",
              "  }\n",
              "</style>\n",
              "\n",
              "      <script>\n",
              "        async function quickchart(key) {\n",
              "          const quickchartButtonEl =\n",
              "            document.querySelector('#' + key + ' button');\n",
              "          quickchartButtonEl.disabled = true;  // To prevent multiple clicks.\n",
              "          quickchartButtonEl.classList.add('colab-df-spinner');\n",
              "          try {\n",
              "            const charts = await google.colab.kernel.invokeFunction(\n",
              "                'suggestCharts', [key], {});\n",
              "          } catch (error) {\n",
              "            console.error('Error during call to suggestCharts:', error);\n",
              "          }\n",
              "          quickchartButtonEl.classList.remove('colab-df-spinner');\n",
              "          quickchartButtonEl.classList.add('colab-df-quickchart-complete');\n",
              "        }\n",
              "        (() => {\n",
              "          let quickchartButtonEl =\n",
              "            document.querySelector('#df-6cb46fde-8758-4abd-968b-b7ae5b95f728 button');\n",
              "          quickchartButtonEl.style.display =\n",
              "            google.colab.kernel.accessAllowed ? 'block' : 'none';\n",
              "        })();\n",
              "      </script>\n",
              "    </div>\n",
              "\n",
              "    </div>\n",
              "  </div>\n"
            ],
            "application/vnd.google.colaboratory.intrinsic+json": {
              "type": "dataframe",
              "variable_name": "df",
              "summary": "{\n  \"name\": \"df\",\n  \"rows\": 10261,\n  \"fields\": [\n    {\n      \"column\": \"reviewerID\",\n      \"properties\": {\n        \"dtype\": \"category\",\n        \"num_unique_values\": 1429,\n        \"samples\": [\n          \"A3OJ0RGAECAGH8\",\n          \"AXMYGK3WC8BPP\",\n          \"A34WEXT7SIRFE4\"\n        ],\n        \"semantic_type\": \"\",\n        \"description\": \"\"\n      }\n    },\n    {\n      \"column\": \"asin\",\n      \"properties\": {\n        \"dtype\": \"category\",\n        \"num_unique_values\": 900,\n        \"samples\": [\n          \"B0002D0CNA\",\n          \"B007IHYBV2\",\n          \"B0002MJTZ8\"\n        ],\n        \"semantic_type\": \"\",\n        \"description\": \"\"\n      }\n    },\n    {\n      \"column\": \"reviewerName\",\n      \"properties\": {\n        \"dtype\": \"category\",\n        \"num_unique_values\": 1397,\n        \"samples\": [\n          \"K. Swanson\",\n          \"Andrew Walker\",\n          \"Texman\"\n        ],\n        \"semantic_type\": \"\",\n        \"description\": \"\"\n      }\n    },\n    {\n      \"column\": \"helpful\",\n      \"properties\": {\n        \"dtype\": \"object\",\n        \"semantic_type\": \"\",\n        \"description\": \"\"\n      }\n    },\n    {\n      \"column\": \"reviewText\",\n      \"properties\": {\n        \"dtype\": \"string\",\n        \"num_unique_values\": 10255,\n        \"samples\": [\n          \"It's hard not to love a cord that carries electrons all the way to the end. Not sure what, other than complete failure would take stars away.\",\n          \"If you are looking to walk around while you play your guitar, then you might want to look into something longer. As a spare cable to play at home though, it's pretty good.\",\n          \"I bought these to replace a pair of ATH-M45s I had for 6 years. I used my old headphones for listening to music and for tracking in my recording studio. These have assumed the same role and perform wonderfully. I play a lot of electric drums and these cans do a great job of isolating the outside world from what I hear inside the headphones. Listening to music on them is a joy. Everyone has an opinion about a &#34;burn in&#34; period, mine seemed to open up at about 50-60 hours. I listen to music about 3 - 4 hours a day.\"\n        ],\n        \"semantic_type\": \"\",\n        \"description\": \"\"\n      }\n    },\n    {\n      \"column\": \"overall\",\n      \"properties\": {\n        \"dtype\": \"number\",\n        \"std\": 0,\n        \"min\": 1,\n        \"max\": 5,\n        \"num_unique_values\": 5,\n        \"samples\": [\n          3,\n          1,\n          4\n        ],\n        \"semantic_type\": \"\",\n        \"description\": \"\"\n      }\n    },\n    {\n      \"column\": \"summary\",\n      \"properties\": {\n        \"dtype\": \"string\",\n        \"num_unique_values\": 8852,\n        \"samples\": [\n          \"5 plugs, 1 power source...this is a good thing\",\n          \"Great Package. It finally stayed in Tune after multiple adjustments\",\n          \"Good enough for professional use\"\n        ],\n        \"semantic_type\": \"\",\n        \"description\": \"\"\n      }\n    },\n    {\n      \"column\": \"unixReviewTime\",\n      \"properties\": {\n        \"dtype\": \"number\",\n        \"std\": 37797350,\n        \"min\": 1095465600,\n        \"max\": 1405987200,\n        \"num_unique_values\": 1570,\n        \"samples\": [\n          1266710400,\n          1308700800,\n          1318204800\n        ],\n        \"semantic_type\": \"\",\n        \"description\": \"\"\n      }\n    },\n    {\n      \"column\": \"reviewTime\",\n      \"properties\": {\n        \"dtype\": \"object\",\n        \"num_unique_values\": 1570,\n        \"samples\": [\n          \"02 21, 2010\",\n          \"06 22, 2011\",\n          \"10 10, 2011\"\n        ],\n        \"semantic_type\": \"\",\n        \"description\": \"\"\n      }\n    }\n  ]\n}"
            }
          },
          "metadata": {},
          "execution_count": 26
        }
      ]
    },
    {
      "cell_type": "code",
      "source": [
        "# Afficher les colonnes disponibles\n",
        "print(df.columns)"
      ],
      "metadata": {
        "colab": {
          "base_uri": "https://localhost:8080/"
        },
        "id": "bykOA58NzUon",
        "outputId": "ea4d8af4-01a7-47e5-cdca-2bdb4ede8f70"
      },
      "execution_count": 30,
      "outputs": [
        {
          "output_type": "stream",
          "name": "stdout",
          "text": [
            "Index(['reviewerID', 'asin', 'reviewerName', 'helpful', 'reviewText',\n",
            "       'overall', 'summary', 'unixReviewTime', 'reviewTime'],\n",
            "      dtype='object')\n"
          ]
        }
      ]
    },
    {
      "cell_type": "code",
      "source": [
        "# Informations générales sur le dataset\n",
        "print(df.info())"
      ],
      "metadata": {
        "colab": {
          "base_uri": "https://localhost:8080/"
        },
        "id": "1PhGlfNwzXUJ",
        "outputId": "47b1156d-c7d1-4cf3-9100-b2d702686477"
      },
      "execution_count": 28,
      "outputs": [
        {
          "output_type": "stream",
          "name": "stdout",
          "text": [
            "<class 'pandas.core.frame.DataFrame'>\n",
            "RangeIndex: 10261 entries, 0 to 10260\n",
            "Data columns (total 9 columns):\n",
            " #   Column          Non-Null Count  Dtype \n",
            "---  ------          --------------  ----- \n",
            " 0   reviewerID      10261 non-null  object\n",
            " 1   asin            10261 non-null  object\n",
            " 2   reviewerName    10234 non-null  object\n",
            " 3   helpful         10261 non-null  object\n",
            " 4   reviewText      10261 non-null  object\n",
            " 5   overall         10261 non-null  int64 \n",
            " 6   summary         10261 non-null  object\n",
            " 7   unixReviewTime  10261 non-null  int64 \n",
            " 8   reviewTime      10261 non-null  object\n",
            "dtypes: int64(2), object(7)\n",
            "memory usage: 721.6+ KB\n",
            "None\n"
          ]
        }
      ]
    },
    {
      "cell_type": "code",
      "source": [
        "# Quelques statistiques de base sur les colonnes numériques\n",
        "print(df.describe())"
      ],
      "metadata": {
        "colab": {
          "base_uri": "https://localhost:8080/"
        },
        "id": "7qHlhQZjzeNw",
        "outputId": "d957031a-b584-49b5-e7ab-e247695b679a"
      },
      "execution_count": 29,
      "outputs": [
        {
          "output_type": "stream",
          "name": "stdout",
          "text": [
            "            overall  unixReviewTime\n",
            "count  10261.000000    1.026100e+04\n",
            "mean       4.488744    1.360606e+09\n",
            "std        0.894642    3.779735e+07\n",
            "min        1.000000    1.095466e+09\n",
            "25%        4.000000    1.343434e+09\n",
            "50%        5.000000    1.368490e+09\n",
            "75%        5.000000    1.388966e+09\n",
            "max        5.000000    1.405987e+09\n"
          ]
        }
      ]
    },
    {
      "cell_type": "markdown",
      "source": [
        "### Déséquilibre des classes dans les avis\n",
        "\n",
        "La grande majorité des avis sont positifs, avec une note de 4 ou 5.\n",
        "\n",
        "Ce déséquilibre peut poser un problème dans le cadre d’une classification multiclasse (positif, neutre, négatif), car les avis négatifs et neutres sont sous-représentés.\n",
        "\n",
        "Il pourrait donc être pertinent d’envisager un équilibrage des classes, en appliquant par exemple des techniques de sous-échantillonnage de la classe majoritaire ou de sur-échantillonnage (comme SMOTE) pour les classes minoritaires, afin d’améliorer les performances du modèle de prédiction."
      ],
      "metadata": {
        "id": "NIdOi_Oo2zJY"
      }
    },
    {
      "cell_type": "code",
      "source": [
        "print(df.isnull().sum())"
      ],
      "metadata": {
        "colab": {
          "base_uri": "https://localhost:8080/"
        },
        "id": "pRFmFjsbBfrc",
        "outputId": "f314e28e-9b69-455b-f965-298a0900b2c0"
      },
      "execution_count": 31,
      "outputs": [
        {
          "output_type": "stream",
          "name": "stdout",
          "text": [
            "reviewerID         0\n",
            "asin               0\n",
            "reviewerName      27\n",
            "helpful            0\n",
            "reviewText         0\n",
            "overall            0\n",
            "summary            0\n",
            "unixReviewTime     0\n",
            "reviewTime         0\n",
            "dtype: int64\n"
          ]
        }
      ]
    },
    {
      "cell_type": "markdown",
      "source": [
        "Nous avons vérifié les colonnes essentielles suivantes : `reviewText`, `overall` et `summary`. Aucune valeur manquante n’a été détectée pour ces champs, ce qui garantit l’intégrité des données nécessaires à l’analyse.  \n",
        "Concernant la colonne `reviewerName`, bien qu’elle contienne quelques valeurs manquantes, nous avons décidé de les ignorer, car cette information n’est pas critique pour notre étude."
      ],
      "metadata": {
        "id": "kdvDXcjaBmEw"
      }
    },
    {
      "cell_type": "code",
      "source": [
        "# Exclure la colonne 'helpful' pour détecter les doublons\n",
        "df_no_helpful = df.drop(columns=['helpful'])\n",
        "print(df_no_helpful.duplicated().sum())"
      ],
      "metadata": {
        "colab": {
          "base_uri": "https://localhost:8080/"
        },
        "id": "jgNoFXeIB1Fb",
        "outputId": "0f552823-7b4e-4c83-a38e-a6c83fddb82e"
      },
      "execution_count": 32,
      "outputs": [
        {
          "output_type": "stream",
          "name": "stdout",
          "text": [
            "0\n"
          ]
        }
      ]
    },
    {
      "cell_type": "markdown",
      "source": [
        "il y a pas des doublons"
      ],
      "metadata": {
        "id": "g2BtuqcsB6iF"
      }
    },
    {
      "cell_type": "code",
      "source": [
        "print(df[\"overall\"].value_counts().sort_index())"
      ],
      "metadata": {
        "colab": {
          "base_uri": "https://localhost:8080/"
        },
        "id": "3MPf68WnCEbe",
        "outputId": "1c989a32-570f-4c28-a710-fa6c8cf08c79"
      },
      "execution_count": 33,
      "outputs": [
        {
          "output_type": "stream",
          "name": "stdout",
          "text": [
            "overall\n",
            "1     217\n",
            "2     250\n",
            "3     772\n",
            "4    2084\n",
            "5    6938\n",
            "Name: count, dtype: int64\n"
          ]
        }
      ]
    },
    {
      "cell_type": "code",
      "source": [
        "df[\"overall\"].value_counts().sort_index().plot(kind=\"bar\")\n",
        "plt.title(\"Distribution des notes (overall)\")\n",
        "plt.xlabel(\"Note\")\n",
        "plt.ylabel(\"Nombre d'avis\")\n",
        "plt.grid(True)\n",
        "plt.show()"
      ],
      "metadata": {
        "colab": {
          "base_uri": "https://localhost:8080/",
          "height": 467
        },
        "id": "qzoRNK37CGLX",
        "outputId": "be2caba2-76c2-4d77-f6be-4fc2273b31b5"
      },
      "execution_count": 34,
      "outputs": [
        {
          "output_type": "display_data",
          "data": {
            "text/plain": [
              "<Figure size 640x480 with 1 Axes>"
            ],
            "image/png": "[encoded data removed]"
          },
          "metadata": {}
        }
      ]
    },
    {
      "cell_type": "markdown",
      "source": [
        "### Déséquilibre important des classes\n",
        "\n",
        "Les données présentent un fort déséquilibre :\n",
        "\n",
        "- Plus de **87 %** des avis sont **positifs** (note 4 ou 5).\n",
        "- Moins de **5 %** sont **négatifs** (note 1 ou 2).\n",
        "\n",
        "Ce déséquilibre peut **biaisser l’entraînement du modèle**, qui risque de **prédire la classe « positif » de manière excessive**, au détriment des classes minoritaires.  \n",
        "Il est donc essentiel de prendre ce phénomène en compte, notamment par des techniques d’équilibrage ou des métriques d’évaluation adaptées."
      ],
      "metadata": {
        "id": "dNbJTZRvCMWa"
      }
    },
    {
      "cell_type": "code",
      "source": [
        "df[\"text_length\"] = df[\"reviewText\"].apply(lambda x: len(str(x)))\n",
        "print(df[\"text_length\"].describe())"
      ],
      "metadata": {
        "colab": {
          "base_uri": "https://localhost:8080/"
        },
        "id": "cvd-NkFrCRWf",
        "outputId": "89b67686-b4b4-4c87-99ea-4918cec90d57"
      },
      "execution_count": 35,
      "outputs": [
        {
          "output_type": "stream",
          "name": "stdout",
          "text": [
            "count    10261.000000\n",
            "mean       485.929052\n",
            "std        613.436113\n",
            "min          0.000000\n",
            "25%        162.000000\n",
            "50%        284.000000\n",
            "75%        552.000000\n",
            "max      11310.000000\n",
            "Name: text_length, dtype: float64\n"
          ]
        }
      ]
    },
    {
      "cell_type": "code",
      "source": [
        "df[\"text_length\"].hist(bins=50)\n",
        "plt.title(\"Distribution des longueurs des avis\")\n",
        "plt.xlabel(\"Longueur (nombre de caractères)\")\n",
        "plt.ylabel(\"Nombre d'avis\")\n",
        "plt.show()"
      ],
      "metadata": {
        "colab": {
          "base_uri": "https://localhost:8080/",
          "height": 472
        },
        "id": "I6bvIKGTCYeY",
        "outputId": "032b47fb-8104-4d0a-c1f8-67dab80a6c53"
      },
      "execution_count": 36,
      "outputs": [
        {
          "output_type": "display_data",
          "data": {
            "text/plain": [
              "<Figure size 640x480 with 1 Axes>"
            ],
            "image/png": "[encoded data removed]"
          },
          "metadata": {}
        }
      ]
    },
    {
      "cell_type": "markdown",
      "source": [
        "### Analyse de la longueur des avis\n",
        "\n",
        "- La majorité des avis ont une longueur **courte à moyenne**, comprise entre **162 et 552 caractères**.\n",
        "- Quelques avis sont **très longs** (jusqu’à **11 000 caractères**), ce qui peut **augmenter les temps de traitement** lors de l'entraînement du modèle.\n",
        "- Certains avis sont **vides** (longueur = 0) : ces lignes doivent être **supprimées**, car elles sont **inutiles pour l’analyse et l'apprentissage automatique**."
      ],
      "metadata": {
        "id": "CnJCm_oOCdes"
      }
    },
    {
      "cell_type": "code",
      "source": [
        "# Supprimer les lignes où le texte est vide\n",
        "df = df[df['text_length'] > 0]"
      ],
      "metadata": {
        "id": "qVj4M2PlCfDc"
      },
      "execution_count": 37,
      "outputs": []
    },
    {
      "cell_type": "code",
      "source": [
        "# Conversion du timestamp Unix en date lisible\n",
        "df[\"reviewTime\"] = pd.to_datetime(df[\"unixReviewTime\"], unit='s')\n",
        "\n",
        "# Extraire l'année\n",
        "df[\"reviewYear\"] = df[\"reviewTime\"].dt.year\n",
        "\n",
        "# Compter les avis par année\n",
        "print(df[\"reviewYear\"].value_counts().sort_index())"
      ],
      "metadata": {
        "colab": {
          "base_uri": "https://localhost:8080/"
        },
        "id": "hLNvGdGZCjcG",
        "outputId": "b7b5f52e-8659-43e8-d7fe-b33a17fc94f5"
      },
      "execution_count": 38,
      "outputs": [
        {
          "output_type": "stream",
          "name": "stdout",
          "text": [
            "reviewYear\n",
            "2004       7\n",
            "2005       4\n",
            "2006      10\n",
            "2007      22\n",
            "2008      63\n",
            "2009     127\n",
            "2010     350\n",
            "2011    1006\n",
            "2012    1933\n",
            "2013    4053\n",
            "2014    2679\n",
            "Name: count, dtype: int64\n"
          ]
        }
      ]
    },
    {
      "cell_type": "code",
      "source": [
        "df[\"reviewYear\"].value_counts().sort_index().plot(kind=\"bar\")\n",
        "plt.title(\"Nombre d'avis par année\")\n",
        "plt.xlabel(\"Année\")\n",
        "plt.ylabel(\"Nombre d'avis\")\n",
        "plt.grid(True)\n",
        "plt.show()"
      ],
      "metadata": {
        "colab": {
          "base_uri": "https://localhost:8080/",
          "height": 493
        },
        "id": "S2F2kVHrCrKI",
        "outputId": "ed3aca1b-6c54-4471-ea2b-32e17bdfa2df"
      },
      "execution_count": 39,
      "outputs": [
        {
          "output_type": "display_data",
          "data": {
            "text/plain": [
              "<Figure size 640x480 with 1 Axes>"
            ],
            "image/png": "[encoded data removed]"
          },
          "metadata": {}
        }
      ]
    },
    {
      "cell_type": "markdown",
      "source": [
        "### Répartition des avis par année\n",
        "\n",
        "L’analyse temporelle montre que la majorité des avis sont concentrés entre **2011 et 2014**, avec un **pic significatif en 2013**. Cette année seule représente **plus de 4 000 avis**, soit **environ 40 %** du jeu de données, ce qui en fait une année dominante.\n",
        "\n",
        "En revanche, les années antérieures (de **2004 à 2010**) contiennent **très peu d’évaluations**, les rendant **statistiquement peu représentatives**.\n",
        "\n",
        "Ainsi, il peut être pertinent d’**exclure ces années** dans certaines analyses, afin de travailler sur un **échantillon plus homogène et pertinent**."
      ],
      "metadata": {
        "id": "UGPhxholCur2"
      }
    },
    {
      "cell_type": "code",
      "source": [
        "def create_label(row):\n",
        "    if row['overall'] < 3:\n",
        "        return 0  # négatif\n",
        "    elif row['overall'] == 3:\n",
        "        return 1  # neutre\n",
        "    else:\n",
        "        return 2  # positif\n",
        "\n",
        "df['label'] = df.apply(create_label, axis=1)"
      ],
      "metadata": {
        "id": "BWLC_YenCxzG"
      },
      "execution_count": 40,
      "outputs": []
    },
    {
      "cell_type": "code",
      "source": [
        "df['word_count'] = df['reviewText'].apply(lambda x: len(str(x).split()))"
      ],
      "metadata": {
        "id": "GQjWPvYsC3Xd"
      },
      "execution_count": 42,
      "outputs": []
    },
    {
      "cell_type": "code",
      "source": [
        "df.head(1)"
      ],
      "metadata": {
        "colab": {
          "base_uri": "https://localhost:8080/",
          "height": 153
        },
        "id": "vsWk84CMC6vU",
        "outputId": "b1a49e1d-2f95-4a9a-8e26-d918a8d84233"
      },
      "execution_count": 43,
      "outputs": [
        {
          "output_type": "execute_result",
          "data": {
            "text/plain": [
              "       reviewerID        asin  \\\n",
              "0  A2IBPI20UZIR0U  1384719342   \n",
              "\n",
              "                                       reviewerName helpful  \\\n",
              "0  cassandra tu \"Yeah, well, that's just like, u...  [0, 0]   \n",
              "\n",
              "                                          reviewText  overall summary  \\\n",
              "0  Not much to write about here, but it does exac...        5    good   \n",
              "\n",
              "   unixReviewTime reviewTime  text_length  reviewYear  label  word_count  \n",
              "0      1393545600 2014-02-28          268        2014      2          51  "
            ],
            "text/html": [
              "\n",
              "  <div id=\"df-d25d4f51-292d-4c87-aaf1-e50d09a10ad9\" class=\"colab-df-container\">\n",
              "    <div>\n",
              "<style scoped>\n",
              "    .dataframe tbody tr th:only-of-type {\n",
              "        vertical-align: middle;\n",
              "    }\n",
              "\n",
              "    .dataframe tbody tr th {\n",
              "        vertical-align: top;\n",
              "    }\n",
              "\n",
              "    .dataframe thead th {\n",
              "        text-align: right;\n",
              "    }\n",
              "</style>\n",
              "<table border=\"1\" class=\"dataframe\">\n",
              "  <thead>\n",
              "    <tr style=\"text-align: right;\">\n",
              "      <th></th>\n",
              "      <th>reviewerID</th>\n",
              "      <th>asin</th>\n",
              "      <th>reviewerName</th>\n",
              "      <th>helpful</th>\n",
              "      <th>reviewText</th>\n",
              "      <th>overall</th>\n",
              "      <th>summary</th>\n",
              "      <th>unixReviewTime</th>\n",
              "      <th>reviewTime</th>\n",
              "      <th>text_length</th>\n",
              "      <th>reviewYear</th>\n",
              "      <th>label</th>\n",
              "      <th>word_count</th>\n",
              "    </tr>\n",
              "  </thead>\n",
              "  <tbody>\n",
              "    <tr>\n",
              "      <th>0</th>\n",
              "      <td>A2IBPI20UZIR0U</td>\n",
              "      <td>1384719342</td>\n",
              "      <td>cassandra tu \"Yeah, well, that's just like, u...</td>\n",
              "      <td>[0, 0]</td>\n",
              "      <td>Not much to write about here, but it does exac...</td>\n",
              "      <td>5</td>\n",
              "      <td>good</td>\n",
              "      <td>1393545600</td>\n",
              "      <td>2014-02-28</td>\n",
              "      <td>268</td>\n",
              "      <td>2014</td>\n",
              "      <td>2</td>\n",
              "      <td>51</td>\n",
              "    </tr>\n",
              "  </tbody>\n",
              "</table>\n",
              "</div>\n",
              "    <div class=\"colab-df-buttons\">\n",
              "\n",
              "  <div class=\"colab-df-container\">\n",
              "    <button class=\"colab-df-convert\" onclick=\"convertToInteractive('df-d25d4f51-292d-4c87-aaf1-e50d09a10ad9')\"\n",
              "            title=\"Convert this dataframe to an interactive table.\"\n",
              "            style=\"display:none;\">\n",
              "\n",
              "  <svg xmlns=\"http://www.w3.org/2000/svg\" height=\"24px\" viewBox=\"0 -960 960 960\">\n",
              "    <path d=\"M120-120v-720h720v720H120Zm60-500h600v-160H180v160Zm220 220h160v-160H400v160Zm0 220h160v-160H400v160ZM180-400h160v-160H180v160Zm440 0h160v-160H620v160ZM180-180h160v-160H180v160Zm440 0h160v-160H620v160Z\"/>\n",
              "  </svg>\n",
              "    </button>\n",
              "\n",
              "  <style>\n",
              "    .colab-df-container {\n",
              "      display:flex;\n",
              "      gap: 12px;\n",
              "    }\n",
              "\n",
              "    .colab-df-convert {\n",
              "      background-color: #E8F0FE;\n",
              "      border: none;\n",
              "      border-radius: 50%;\n",
              "      cursor: pointer;\n",
              "      display: none;\n",
              "      fill: #1967D2;\n",
              "      height: 32px;\n",
              "      padding: 0 0 0 0;\n",
              "      width: 32px;\n",
              "    }\n",
              "\n",
              "    .colab-df-convert:hover {\n",
              "      background-color: #E2EBFA;\n",
              "      box-shadow: 0px 1px 2px rgba(60, 64, 67, 0.3), 0px 1px 3px 1px rgba(60, 64, 67, 0.15);\n",
              "      fill: #174EA6;\n",
              "    }\n",
              "\n",
              "    .colab-df-buttons div {\n",
              "      margin-bottom: 4px;\n",
              "    }\n",
              "\n",
              "    [theme=dark] .colab-df-convert {\n",
              "      background-color: #3B4455;\n",
              "      fill: #D2E3FC;\n",
              "    }\n",
              "\n",
              "    [theme=dark] .colab-df-convert:hover {\n",
              "      background-color: #434B5C;\n",
              "      box-shadow: 0px 1px 3px 1px rgba(0, 0, 0, 0.15);\n",
              "      filter: drop-shadow(0px 1px 2px rgba(0, 0, 0, 0.3));\n",
              "      fill: #FFFFFF;\n",
              "    }\n",
              "  </style>\n",
              "\n",
              "    <script>\n",
              "      const buttonEl =\n",
              "        document.querySelector('#df-d25d4f51-292d-4c87-aaf1-e50d09a10ad9 button.colab-df-convert');\n",
              "      buttonEl.style.display =\n",
              "        google.colab.kernel.accessAllowed ? 'block' : 'none';\n",
              "\n",
              "      async function convertToInteractive(key) {\n",
              "        const element = document.querySelector('#df-d25d4f51-292d-4c87-aaf1-e50d09a10ad9');\n",
              "        const dataTable =\n",
              "          await google.colab.kernel.invokeFunction('convertToInteractive',\n",
              "                                                    [key], {});\n",
              "        if (!dataTable) return;\n",
              "\n",
              "        const docLinkHtml = 'Like what you see? Visit the ' +\n",
              "          '<a target=\"_blank\" href=https://colab.research.google.com/notebooks/data_table.ipynb>data table notebook</a>'\n",
              "          + ' to learn more about interactive tables.';\n",
              "        element.innerHTML = '';\n",
              "        dataTable['output_type'] = 'display_data';\n",
              "        await google.colab.output.renderOutput(dataTable, element);\n",
              "        const docLink = document.createElement('div');\n",
              "        docLink.innerHTML = docLinkHtml;\n",
              "        element.appendChild(docLink);\n",
              "      }\n",
              "    </script>\n",
              "  </div>\n",
              "\n",
              "\n",
              "    </div>\n",
              "  </div>\n"
            ],
            "application/vnd.google.colaboratory.intrinsic+json": {
              "type": "dataframe",
              "variable_name": "df",
              "summary": "{\n  \"name\": \"df\",\n  \"rows\": 10254,\n  \"fields\": [\n    {\n      \"column\": \"reviewerID\",\n      \"properties\": {\n        \"dtype\": \"category\",\n        \"num_unique_values\": 1429,\n        \"samples\": [\n          \"A3OJ0RGAECAGH8\",\n          \"AXMYGK3WC8BPP\",\n          \"A34WEXT7SIRFE4\"\n        ],\n        \"semantic_type\": \"\",\n        \"description\": \"\"\n      }\n    },\n    {\n      \"column\": \"asin\",\n      \"properties\": {\n        \"dtype\": \"category\",\n        \"num_unique_values\": 900,\n        \"samples\": [\n          \"B0002D0CNA\",\n          \"B007IHYBV2\",\n          \"B0002MJTZ8\"\n        ],\n        \"semantic_type\": \"\",\n        \"description\": \"\"\n      }\n    },\n    {\n      \"column\": \"reviewerName\",\n      \"properties\": {\n        \"dtype\": \"category\",\n        \"num_unique_values\": 1397,\n        \"samples\": [\n          \"K. Swanson\",\n          \"Ed Figueroa\",\n          \"Yakov Hadash\"\n        ],\n        \"semantic_type\": \"\",\n        \"description\": \"\"\n      }\n    },\n    {\n      \"column\": \"helpful\",\n      \"properties\": {\n        \"dtype\": \"object\",\n        \"semantic_type\": \"\",\n        \"description\": \"\"\n      }\n    },\n    {\n      \"column\": \"reviewText\",\n      \"properties\": {\n        \"dtype\": \"string\",\n        \"num_unique_values\": 10254,\n        \"samples\": [\n          \"It's hard not to love a cord that carries electrons all the way to the end. Not sure what, other than complete failure would take stars away.\",\n          \"I don't know if 39\\\" (from the top of the headstock to the bottom of the body {I know guitars are based on the size of the frets but no idea how to do that} ) is the normal size for an adult...However for $50 (its on sale at the time) even if its not I can still learn to play since thats why I bought it is to learn...The pick guard had some sort of plastic cover that was rough but doesn't really affect anything, since it seems like something was put on it to help shipping once removed the pick guard is fine.All togther whether its a full size adult or just one for kids its still pretty good.I am happy with it.Good clean sound, at least with my headphone amp (only amp I have).Comes with Whammy bar(thats what I know it as), one volume, two tone, the pickup sector switch, the cord that connects your guitar to your amp.**EDIT**So now that Amazon has grouped the guitar with many others (mostly the color differences) and that I have a little bit more knowlage of the guitar, not saying much really but a little bit, I have found that mine has two dead spots on the volume... Not much of an issue, for me at least but worth mentioning.\",\n          \"I bought this strap to use on an acoustic dreadnought guitar. I would have given this item 5 stars but even fully extended it is about 3&#34;-4&#34; too short. As for the quality of the strap, I love the look and feel of the leather. It has a worn and aged texture that looks great and it would be very comfortable to wear while playing if it were longer.My 2 cents in summary- I think for a classical acoustic guitar or for an electric, this strap would work much better. If you have a larger sized guitar, find a longer strap.\"\n        ],\n        \"semantic_type\": \"\",\n        \"description\": \"\"\n      }\n    },\n    {\n      \"column\": \"overall\",\n      \"properties\": {\n        \"dtype\": \"number\",\n        \"std\": 0,\n        \"min\": 1,\n        \"max\": 5,\n        \"num_unique_values\": 5,\n        \"samples\": [\n          3,\n          1,\n          4\n        ],\n        \"semantic_type\": \"\",\n        \"description\": \"\"\n      }\n    },\n    {\n      \"column\": \"summary\",\n      \"properties\": {\n        \"dtype\": \"string\",\n        \"num_unique_values\": 8846,\n        \"samples\": [\n          \"Great for the money spent.\",\n          \"Great feel, Great look, LOVE IT!\",\n          \"Fantastic Mic for the Price\"\n        ],\n        \"semantic_type\": \"\",\n        \"description\": \"\"\n      }\n    },\n    {\n      \"column\": \"unixReviewTime\",\n      \"properties\": {\n        \"dtype\": \"number\",\n        \"std\": 37791719,\n        \"min\": 1095465600,\n        \"max\": 1405987200,\n        \"num_unique_values\": 1569,\n        \"samples\": [\n          1284249600,\n          1308700800,\n          1318204800\n        ],\n        \"semantic_type\": \"\",\n        \"description\": \"\"\n      }\n    },\n    {\n      \"column\": \"reviewTime\",\n      \"properties\": {\n        \"dtype\": \"date\",\n        \"min\": \"2004-09-18 00:00:00\",\n        \"max\": \"2014-07-22 00:00:00\",\n        \"num_unique_values\": 1569,\n        \"samples\": [\n          \"2010-09-12 00:00:00\",\n          \"2011-06-22 00:00:00\",\n          \"2011-10-10 00:00:00\"\n        ],\n        \"semantic_type\": \"\",\n        \"description\": \"\"\n      }\n    },\n    {\n      \"column\": \"text_length\",\n      \"properties\": {\n        \"dtype\": \"number\",\n        \"std\": 613,\n        \"min\": 9,\n        \"max\": 11310,\n        \"num_unique_values\": 1726,\n        \"samples\": [\n          676,\n          1516,\n          651\n        ],\n        \"semantic_type\": \"\",\n        \"description\": \"\"\n      }\n    },\n    {\n      \"column\": \"reviewYear\",\n      \"properties\": {\n        \"dtype\": \"int32\",\n        \"num_unique_values\": 11,\n        \"samples\": [\n          2011,\n          2014,\n          2004\n        ],\n        \"semantic_type\": \"\",\n        \"description\": \"\"\n      }\n    },\n    {\n      \"column\": \"label\",\n      \"properties\": {\n        \"dtype\": \"number\",\n        \"std\": 0,\n        \"min\": 0,\n        \"max\": 2,\n        \"num_unique_values\": 3,\n        \"samples\": [\n          2,\n          1,\n          0\n        ],\n        \"semantic_type\": \"\",\n        \"description\": \"\"\n      }\n    },\n    {\n      \"column\": \"word_count\",\n      \"properties\": {\n        \"dtype\": \"number\",\n        \"std\": 111,\n        \"min\": 1,\n        \"max\": 2043,\n        \"num_unique_values\": 564,\n        \"samples\": [\n          609,\n          412,\n          249\n        ],\n        \"semantic_type\": \"\",\n        \"description\": \"\"\n      }\n    }\n  ]\n}"
            }
          },
          "metadata": {},
          "execution_count": 43
        }
      ]
    },
    {
      "cell_type": "code",
      "source": [
        "# Statistiques descriptives\n",
        "print(df.groupby('label')['text_length'].describe())\n",
        "\n",
        "# Boxplot\n",
        "plt.figure(figsize=(8,5))\n",
        "sns.boxplot(x='label', y='text_length', data=df)\n",
        "plt.title('Distribution de text_length selon le label')\n",
        "plt.show()"
      ],
      "metadata": {
        "colab": {
          "base_uri": "https://localhost:8080/",
          "height": 574
        },
        "id": "GVzHUKK3DFp0",
        "outputId": "e7b2eee0-8bf2-401c-940e-203239f42ab9"
      },
      "execution_count": 44,
      "outputs": [
        {
          "output_type": "stream",
          "name": "stdout",
          "text": [
            "        count        mean         std   min    25%    50%    75%      max\n",
            "label                                                                    \n",
            "0       467.0  579.205567  672.310315  32.0  224.0  375.0  682.0   7180.0\n",
            "1       772.0  579.211140  772.882466  24.0  172.0  351.5  642.5  10275.0\n",
            "2      9015.0  473.486190  593.570029   9.0  160.0  275.0  538.0  11310.0\n"
          ]
        },
        {
          "output_type": "display_data",
          "data": {
            "text/plain": [
              "<Figure size 800x500 with 1 Axes>"
            ],
            "image/png": "[encoded data removed]"
          },
          "metadata": {}
        }
      ]
    },
    {
      "cell_type": "code",
      "source": [
        "# Statistiques descriptives\n",
        "print(df.groupby('label')['word_count'].describe())\n",
        "\n",
        "# Boxplot\n",
        "plt.figure(figsize=(8,5))\n",
        "sns.boxplot(x='label', y='word_count', data=df)\n",
        "plt.title('Distribution de word_count selon le label')\n",
        "plt.show()"
      ],
      "metadata": {
        "colab": {
          "base_uri": "https://localhost:8080/",
          "height": 574
        },
        "id": "XDLL_vd4DKcz",
        "outputId": "b1e39078-0edd-42c0-d178-c55a8ffbb53d"
      },
      "execution_count": 45,
      "outputs": [
        {
          "output_type": "stream",
          "name": "stdout",
          "text": [
            "        count        mean         std  min   25%   50%    75%     max\n",
            "label                                                                \n",
            "0       467.0  107.531049  121.711721  7.0  42.0  70.0  127.5  1290.0\n",
            "1       772.0  107.773316  138.667100  5.0  33.0  67.0  122.0  1760.0\n",
            "2      9015.0   87.848364  107.794190  1.0  30.0  52.0  101.0  2043.0\n"
          ]
        },
        {
          "output_type": "display_data",
          "data": {
            "text/plain": [
              "<Figure size 800x500 with 1 Axes>"
            ],
            "image/png": "[encoded data removed]"
          },
          "metadata": {}
        }
      ]
    },
    {
      "cell_type": "markdown",
      "source": [
        "###  Synthèse générale des longueurs de texte\n",
        "\n",
        "- Les **avis positifs** ont tendance à être **plus courts**, avec **moins de mots** et **moins de caractères**.\n",
        "- Les **avis négatifs** et **neutres** sont généralement **plus longs** et **plus détaillés** (plus de mots, plus de caractères).\n",
        "- La **dispersion** (écart-type) est **élevée** pour tous les types d’avis, ce qui indique une **grande variabilité** dans la longueur des textes.\n",
        "\n",
        "---\n",
        "\n",
        "###  Pourquoi `word_count` et `text_length` sont-ils importants pour l’entraînement du modèle ?\n",
        "\n",
        "####  Informations supplémentaires\n",
        "Ces deux colonnes fournissent des **informations quantitatives** sur la **longueur** et la **richesse** des avis. Cela peut influencer la **nature** et la **polarité** du texte.\n",
        "\n",
        "####  Caractéristiques discriminantes\n",
        "On observe que la **longueur moyenne** et le **nombre de mots** diffèrent selon le **type d’avis** (positif, neutre, négatif). Ces variables peuvent donc aider le modèle à **mieux distinguer les classes**.\n",
        "\n",
        "####  Amélioration de la performance\n",
        "L’ajout de ces features offre au modèle un **contexte supplémentaire**, surtout si certains textes sont très courts ou très variables. Cela peut **renforcer la robustesse** du modèle.\n",
        "\n",
        "####  Gestion des biais\n",
        "Les avis **très courts** ou **très longs** peuvent induire des biais. En intégrant leur longueur, le modèle est **mieux équipé** pour traiter ces cas et **réduire les erreurs** dues uniquement au contenu textuel.\n",
        "\n",
        "---\n",
        "\n",
        " **Conclusion** : `word_count` et `text_length` sont des **features simples mais puissantes**, qui complètent efficacement le traitement du texte brut et **améliorent les performances globales du modèle**."
      ],
      "metadata": {
        "id": "XyRn8B0FDjE3"
      }
    },
    {
      "cell_type": "markdown",
      "source": [
        "# Mini Projet Big Data 2024-2025: Analyse des avis clients Amazon en temps réel"
      ],
      "metadata": {
        "id": "sSB2xl1Qg61g"
      }
    },
    {
      "cell_type": "markdown",
      "source": [
        "## 1. Configuration initiale"
      ],
      "metadata": {
        "id": "S8UEAbpohDzx"
      }
    },
    {
      "cell_type": "markdown",
      "source": [
        "### 1.1 Importation des bibliothèques"
      ],
      "metadata": {
        "id": "T_zD-72ohNef"
      }
    },
    {
      "cell_type": "code",
      "source": [
        "# Importation des bibliothèques nécessaires\n",
        "import json\n",
        "import pandas as pd\n",
        "import numpy as np\n",
        "import matplotlib.pyplot as plt\n",
        "import seaborn as sns\n",
        "from textblob import TextBlob\n",
        "import re\n",
        "import nltk\n",
        "from nltk.corpus import stopwords\n",
        "from nltk.stem import WordNetLemmatizer\n",
        "import warnings\n",
        "from pyspark.ml.feature import StringIndexerModel\n",
        "warnings.filterwarnings('ignore')\n",
        "\n",
        "# Import des bibliothèques PySpark\n",
        "import pyspark\n",
        "from pyspark.sql import SparkSession\n",
        "from pyspark.sql.functions import udf, col, when, lit, rand, length, size, split\n",
        "from pyspark.sql.types import StringType, FloatType\n",
        "from pyspark.ml.feature import Tokenizer, StopWordsRemover, CountVectorizer, IDF\n",
        "from pyspark.ml.feature import StringIndexer, VectorAssembler\n",
        "from pyspark.ml.classification import LogisticRegression, DecisionTreeClassifier, RandomForestClassifier\n",
        "from pyspark.ml.evaluation import MulticlassClassificationEvaluator\n",
        "from pyspark.ml import Pipeline"
      ],
      "metadata": {
        "id": "X1-EdX1jhODE"
      },
      "execution_count": 2,
      "outputs": []
    },
    {
      "cell_type": "markdown",
      "source": [
        "### 1.2 Téléchargement des ressources NLTK"
      ],
      "metadata": {
        "id": "QslrgyCthd7Q"
      }
    },
    {
      "cell_type": "markdown",
      "source": [
        "*NLTK nécessite le téléchargement de certaines ressources linguistiques pour fonctionner correctement. Cette cellule s'en charge.*"
      ],
      "metadata": {
        "id": "blyTddmdhjba"
      }
    },
    {
      "cell_type": "code",
      "source": [
        "# Téléchargement des ressources NLTK nécessaires\n",
        "def download_nltk_resources():\n",
        "    nltk.download('stopwords')\n",
        "    nltk.download('punkt')\n",
        "    nltk.download('wordnet')\n",
        "    nltk.download('punkt_tab')"
      ],
      "metadata": {
        "id": "uI_kIYl9heix"
      },
      "execution_count": 3,
      "outputs": []
    },
    {
      "cell_type": "markdown",
      "source": [
        "### 1.3 Initialisation de Spark"
      ],
      "metadata": {
        "id": "sPTojsf9hual"
      }
    },
    {
      "cell_type": "markdown",
      "source": [
        "*Configuration de la session Spark avec des paramètres mémoire adaptés au traitement des données volumineuses.*"
      ],
      "metadata": {
        "id": "RDOuQe3fhy8c"
      }
    },
    {
      "cell_type": "code",
      "source": [
        "def initialize_spark():\n",
        "    \"\"\"Initialisation de la session Spark avec plus de mémoire\"\"\"\n",
        "    spark = SparkSession.builder \\\n",
        "        .appName(\"AmazonReviewsSentimentAnalysis\") \\\n",
        "        .config(\"spark.driver.memory\", \"4g\") \\\n",
        "        .config(\"spark.executor.memory\", \"4g\") \\\n",
        "        .getOrCreate()\n",
        "    print(\"Spark version:\", spark.version)\n",
        "    return spark"
      ],
      "metadata": {
        "id": "mMEbIuDxhr83"
      },
      "execution_count": 4,
      "outputs": []
    },
    {
      "cell_type": "markdown",
      "source": [
        "## 2. Chargement et exploration des données"
      ],
      "metadata": {
        "id": "vsyM6EwRh9Sa"
      }
    },
    {
      "cell_type": "markdown",
      "source": [
        "### 2.1 Chargement des données"
      ],
      "metadata": {
        "id": "vsoxXlyWiC3j"
      }
    },
    {
      "cell_type": "markdown",
      "source": [
        "*Les données sont chargées depuis un fichier JSON contenant les avis Amazon.*"
      ],
      "metadata": {
        "id": "hn9UifhBiGAy"
      }
    },
    {
      "cell_type": "code",
      "source": [
        "def load_data(file_path):\n",
        "    \"\"\"Chargement des données depuis un fichier JSON\"\"\"\n",
        "    print(\"Chargement des données...\")\n",
        "    with open(file_path, 'r') as f:\n",
        "        data = [json.loads(line) for line in f]\n",
        "    df = pd.DataFrame(data)\n",
        "    print(\"Aperçu des données:\")\n",
        "    print(df.head())\n",
        "    return df"
      ],
      "metadata": {
        "id": "gE3I2f4ch_Qj"
      },
      "execution_count": 5,
      "outputs": []
    },
    {
      "cell_type": "markdown",
      "source": [
        "### 2.2 Prétraitement initial"
      ],
      "metadata": {
        "id": "R0-8DZ8niPL0"
      }
    },
    {
      "cell_type": "markdown",
      "source": [
        "Cette étape prépare les données en :\n",
        "- Sélectionnant les colonnes pertinentes\n",
        "- Fusionnant les textes d'avis et résumés\n",
        "- Créant la variable cible 'sentiment'\n",
        "- Calculant des métriques de longueur"
      ],
      "metadata": {
        "id": "IoUaoynziS6m"
      }
    },
    {
      "cell_type": "code",
      "source": [
        "def preprocess_dataframe(df):\n",
        "    \"\"\"Prétraitement des données pour garder uniquement les colonnes nécessaires\"\"\"\n",
        "    print(\"\\nPrétraitement des données...\")\n",
        "\n",
        "    # Conserver uniquement les colonnes nécessaires\n",
        "    columns_to_keep = ['reviewText', 'summary', 'overall']\n",
        "    df_processed = df[columns_to_keep].copy()\n",
        "\n",
        "    # Création de la colonne 'reviews' = reviewText + summary\n",
        "    df_processed['reviews'] = df_processed['reviewText'] + ' ' + df_processed['summary']\n",
        "\n",
        "    # Suppression des colonnes désormais inutiles\n",
        "    df_processed = df_processed.drop(['reviewText', 'summary'], axis=1)\n",
        "\n",
        "    # Création de la colonne cible 'sentiment' selon la règle donnée\n",
        "    df_processed['sentiment'] = df_processed['overall'].apply(lambda x: 'Negative' if x < 3 else ('Neutral' if x == 3 else 'Positive'))\n",
        "\n",
        "    # Calcul de la longueur de l'avis et du nombre de mots\n",
        "    df_processed['review_len'] = df_processed['reviews'].astype(str).apply(len)\n",
        "    df_processed['word_count'] = df_processed['reviews'].apply(lambda x: len(str(x).split()))\n",
        "\n",
        "    # Supprimer la colonne overall après avoir créé sentiment\n",
        "    df_processed = df_processed.drop('overall', axis=1)\n",
        "\n",
        "    return df_processed"
      ],
      "metadata": {
        "id": "80XqyVjNiMdL"
      },
      "execution_count": 6,
      "outputs": []
    },
    {
      "cell_type": "markdown",
      "source": [
        "## 3. Nettoyage et préparation du texte"
      ],
      "metadata": {
        "id": "As0aX4jGiens"
      }
    },
    {
      "cell_type": "markdown",
      "source": [
        "### 3.1 Nettoyage de base"
      ],
      "metadata": {
        "id": "cpoDW8GUikS4"
      }
    },
    {
      "cell_type": "markdown",
      "source": [
        "Suppression des :\n",
        "- URLs\n",
        "- Caractères spéciaux\n",
        "- Chiffres\n",
        "- Espaces multiples\n",
        "Conversion en minuscules"
      ],
      "metadata": {
        "id": "rtvMmoV-ilen"
      }
    },
    {
      "cell_type": "code",
      "source": [
        "def clean_text(text):\n",
        "    \"\"\"Nettoyer le texte des avis\"\"\"\n",
        "    # Conversion en minuscules\n",
        "    text = text.lower()\n",
        "    # Suppression des URLs\n",
        "    text = re.sub(r'http\\S+|www\\S+|https\\S+', '', text, flags=re.MULTILINE)\n",
        "    # Suppression des caractères spéciaux et chiffres\n",
        "    text = re.sub(r'[^\\w\\s]', '', text)\n",
        "    text = re.sub(r'\\d+', '', text)\n",
        "    # Suppression des espaces multiples\n",
        "    text = re.sub(r'\\s+', ' ', text).strip()\n",
        "    return text"
      ],
      "metadata": {
        "id": "5j_ubVh8iamz"
      },
      "execution_count": 7,
      "outputs": []
    },
    {
      "cell_type": "code",
      "source": [
        "def apply_text_preprocessing(df):\n",
        "    \"\"\"Appliquer le prétraitement de texte au DataFrame\"\"\"\n",
        "    print(\"\\nApplication du prétraitement de texte...\")\n",
        "\n",
        "    # Application du nettoyage de texte\n",
        "    df['cleaned_reviews'] = df['reviews'].apply(clean_text)\n",
        "\n",
        "    # Application du prétraitement de texte\n",
        "    df['processed_reviews'] = df['cleaned_reviews'].apply(preprocess_text)\n",
        "\n",
        "    return df"
      ],
      "metadata": {
        "id": "N0z-MTvvizIX"
      },
      "execution_count": 8,
      "outputs": []
    },
    {
      "cell_type": "markdown",
      "source": [
        "### 3.2 Prétraitement avancé"
      ],
      "metadata": {
        "id": "fybTMx_hi7M5"
      }
    },
    {
      "cell_type": "code",
      "source": [
        "def preprocess_text(text):\n",
        "    \"\"\"Tokenisation et suppression des stopwords\"\"\"\n",
        "    stop_words = set(stopwords.words('english'))\n",
        "    lemmatizer = WordNetLemmatizer()\n",
        "    tokens = nltk.word_tokenize(text)\n",
        "    tokens = [lemmatizer.lemmatize(word) for word in tokens if word.isalpha() and word not in stop_words]\n",
        "    return ' '.join(tokens)"
      ],
      "metadata": {
        "id": "PRHBHYVAi4yB"
      },
      "execution_count": 9,
      "outputs": []
    },
    {
      "cell_type": "markdown",
      "source": [
        "## 4. Analyse exploratoire"
      ],
      "metadata": {
        "id": "Nfo2YsD1jHyE"
      }
    },
    {
      "cell_type": "markdown",
      "source": [
        "### 4.1 Visualisation des données"
      ],
      "metadata": {
        "id": "nYQIZinMjMPd"
      }
    },
    {
      "cell_type": "markdown",
      "source": [
        "Cette section génère des graphiques pour :\n",
        "- La distribution des sentiments\n",
        "- La longueur des avis\n",
        "- Le nombre de mots"
      ],
      "metadata": {
        "id": "BKqJalRjjPNQ"
      }
    },
    {
      "cell_type": "code",
      "source": [
        "def visualize_data(df):\n",
        "    \"\"\"Visualisation des données\"\"\"\n",
        "    print(\"\\nVisualisation des données...\")\n",
        "\n",
        "    # Distribution des sentiments\n",
        "    print(\"\\nDistribution des sentiments:\")\n",
        "    sentiment_count = df['sentiment'].value_counts()\n",
        "    print(sentiment_count)\n",
        "\n",
        "    # Visualisation de la distribution des sentiments\n",
        "    plt.figure(figsize=(10, 6))\n",
        "    sns.countplot(x='sentiment', data=df, palette='viridis')\n",
        "    plt.title('Distribution des Sentiments')\n",
        "    plt.ylabel('Nombre d\\'avis')\n",
        "    plt.savefig('sentiment_distribution.png')\n",
        "    plt.close()\n",
        "\n",
        "    # Visualisation des distributions de longueur\n",
        "    plt.figure(figsize=(15, 6))\n",
        "\n",
        "    plt.subplot(1, 2, 1)\n",
        "    sns.histplot(df['review_len'], kde=True)\n",
        "    plt.title('Distribution de la longueur des avis')\n",
        "\n",
        "    plt.subplot(1, 2, 2)\n",
        "    sns.histplot(df['word_count'], kde=True)\n",
        "    plt.title('Distribution du nombre de mots')\n",
        "\n",
        "    plt.tight_layout()\n",
        "    plt.savefig('distributions.png')\n",
        "    plt.close()"
      ],
      "metadata": {
        "id": "hAcdxA4mjK5Y"
      },
      "execution_count": 11,
      "outputs": []
    },
    {
      "cell_type": "markdown",
      "source": [
        "## 5. Préparation pour le machine learning"
      ],
      "metadata": {
        "id": "wX9B_Y-QjbrQ"
      }
    },
    {
      "cell_type": "markdown",
      "source": [
        "### 5.1 Conversion en DataFrame Spark"
      ],
      "metadata": {
        "id": "L5yDU595jjyt"
      }
    },
    {
      "cell_type": "markdown",
      "source": [
        "*Adaptation des données pour le traitement distribué avec PySpark.*"
      ],
      "metadata": {
        "id": "ocaREMWDjmkX"
      }
    },
    {
      "cell_type": "code",
      "source": [
        "def convert_to_spark_df(spark, df):\n",
        "    \"\"\"Conversion en DataFrame Spark\"\"\"\n",
        "    print(\"\\nConversion des données en DataFrame Spark...\")\n",
        "    spark_df = spark.createDataFrame(df)\n",
        "    print(\"\\nAperçu du DataFrame Spark:\")\n",
        "    spark_df.show(5, truncate=False)\n",
        "    return spark_df"
      ],
      "metadata": {
        "id": "4JGhDYTvjiOX"
      },
      "execution_count": 13,
      "outputs": []
    },
    {
      "cell_type": "markdown",
      "source": [
        "### 5.2 Division des données"
      ],
      "metadata": {
        "id": "UuLiX5mJjvYA"
      }
    },
    {
      "cell_type": "code",
      "source": [
        "def split_data(spark_df, train_ratio=0.8, val_ratio=0.1, test_ratio=0.1):\n",
        "    \"\"\"Division des données en ensembles d'entraînement, validation et test\"\"\"\n",
        "    print(\"\\nDivision des données...\")\n",
        "\n",
        "    assert train_ratio + val_ratio + test_ratio == 1.0, \"Les ratios doivent sommer à 1\"\n",
        "\n",
        "    # 80% entraînement, 20% temporaire\n",
        "    train_spark_df, temp_df = spark_df.randomSplit([train_ratio, val_ratio + test_ratio], seed=42)\n",
        "\n",
        "    # Division du temporaire en validation et test\n",
        "    val_spark_df, test_spark_df = temp_df.randomSplit([val_ratio / (val_ratio + test_ratio),\n",
        "                                                      test_ratio / (val_ratio + test_ratio)], seed=42)\n",
        "\n",
        "    print(f\"Taille de l'ensemble d'entraînement: {train_spark_df.count()}\")\n",
        "    print(f\"Taille de l'ensemble de validation: {val_spark_df.count()}\")\n",
        "    print(f\"Taille de l'ensemble de test: {test_spark_df.count()}\")\n",
        "\n",
        "    return train_spark_df, val_spark_df, test_spark_df"
      ],
      "metadata": {
        "id": "54zTUoHQjsai"
      },
      "execution_count": 14,
      "outputs": []
    },
    {
      "cell_type": "markdown",
      "source": [
        "### 5.3 Équilibrage des classes"
      ],
      "metadata": {
        "id": "oKT53iGcj1vE"
      }
    },
    {
      "cell_type": "markdown",
      "source": [
        "*Sur-échantillonnage des classes minoritaires pour éviter les biais dans l'apprentissage.*"
      ],
      "metadata": {
        "id": "mIHKi0XJj5WI"
      }
    },
    {
      "cell_type": "code",
      "source": [
        "def balance_classes(train_spark_df):\n",
        "    \"\"\"Équilibrage des classes par sur-échantillonnage\"\"\"\n",
        "    print(\"\\nÉquilibrage des classes par sur-échantillonnage...\")\n",
        "\n",
        "    # Compter les occurrences de chaque classe\n",
        "    class_counts = train_spark_df.groupBy(\"sentiment\").count().collect()\n",
        "    class_counts_dict = {row[\"sentiment\"]: row[\"count\"] for row in class_counts}\n",
        "\n",
        "    # Identifier la classe majoritaire\n",
        "    majority_class = max(class_counts_dict.items(), key=lambda x: x[1])[0]\n",
        "    majority_count = class_counts_dict[majority_class]\n",
        "\n",
        "    print(f\"Classe majoritaire: {majority_class} avec {majority_count} observations\")\n",
        "\n",
        "    # Sur-échantilloner les classes minoritaires\n",
        "    balanced_dfs = []\n",
        "    for sentiment in class_counts_dict.keys():\n",
        "        class_df = train_spark_df.filter(col(\"sentiment\") == sentiment)\n",
        "\n",
        "        if sentiment != majority_class:\n",
        "            # Calculer le ratio pour atteindre l'équilibre avec la classe majoritaire\n",
        "            ratio = float(majority_count) / float(class_counts_dict[sentiment])\n",
        "            # Arrondir au nombre entier supérieur\n",
        "            num_repeats = int(np.ceil(ratio))\n",
        "\n",
        "            # Sur-échantillonnage par réplication\n",
        "            oversampled_df = class_df\n",
        "            for _ in range(num_repeats - 1):\n",
        "                oversampled_df = oversampled_df.union(class_df)\n",
        "\n",
        "            # Limiter au nombre exact dont nous avons besoin\n",
        "            oversampled_df = oversampled_df.limit(majority_count)\n",
        "            balanced_dfs.append(oversampled_df)\n",
        "\n",
        "            print(f\"Classe {sentiment}: {class_counts_dict[sentiment]} → {oversampled_df.count()} observations après sur-échantillonnage\")\n",
        "        else:\n",
        "            balanced_dfs.append(class_df)\n",
        "            print(f\"Classe {sentiment}: {class_counts_dict[sentiment]} observations (inchangée)\")\n",
        "\n",
        "    # Combiner tous les DataFrames équilibrés\n",
        "    balanced_train_df = balanced_dfs[0]\n",
        "    for df in balanced_dfs[1:]:\n",
        "        balanced_train_df = balanced_train_df.union(df)\n",
        "\n",
        "    # Mélanger les données équilibrées\n",
        "    balanced_train_df = balanced_train_df.orderBy(rand())\n",
        "\n",
        "    print(f\"Ensemble d'entraînement après équilibrage: {balanced_train_df.count()} observations\")\n",
        "\n",
        "    # Vérifier la distribution après équilibrage\n",
        "    print(\"\\nDistribution des classes après équilibrage:\")\n",
        "    balanced_class_counts = balanced_train_df.groupBy(\"sentiment\").count().collect()\n",
        "    for row in balanced_class_counts:\n",
        "        print(f\"{row['sentiment']}: {row['count']}\")\n",
        "\n",
        "    # Création d'une colonne de poids pour les modèles\n",
        "    balanced_train_df = balanced_train_df.withColumn(\"weight\", lit(1.0))\n",
        "\n",
        "    return balanced_train_df"
      ],
      "metadata": {
        "id": "PJT0Ne2ojzj_"
      },
      "execution_count": 15,
      "outputs": []
    },
    {
      "cell_type": "markdown",
      "source": [
        "## 6. Construction des modèles"
      ],
      "metadata": {
        "id": "wXbATLpWkG2d"
      }
    },
    {
      "cell_type": "markdown",
      "source": [
        "### 6.1 Pipeline de features"
      ],
      "metadata": {
        "id": "bqA32EBKkLW-"
      }
    },
    {
      "cell_type": "markdown",
      "source": [
        "Création des transformations pour :\n",
        "- Tokenisation\n",
        "- Suppression des stopwords\n",
        "- Vectorisation (TF-IDF)\n",
        "- Encodage des labels"
      ],
      "metadata": {
        "id": "88WMx1SkkOwA"
      }
    },
    {
      "cell_type": "code",
      "source": [
        "def create_feature_pipeline():\n",
        "    \"\"\"Création de la pipeline de traitement des caractéristiques\"\"\"\n",
        "    # Tokenisation\n",
        "    tokenizer = Tokenizer(inputCol=\"processed_reviews\", outputCol=\"words\")\n",
        "\n",
        "    # Suppression des stopwords\n",
        "    stopwords_remover = StopWordsRemover(inputCol=\"words\", outputCol=\"filtered_words\")\n",
        "\n",
        "    # Vectorisation\n",
        "    count_vectorizer = CountVectorizer(inputCol=\"filtered_words\", outputCol=\"raw_features\", maxDF=0.8, minDF=3.0)\n",
        "\n",
        "    # TF-IDF\n",
        "    idf = IDF(inputCol=\"raw_features\", outputCol=\"features\")\n",
        "\n",
        "    # Encodage de la cible\n",
        "    string_indexer = StringIndexer(inputCol=\"sentiment\", outputCol=\"label\")\n",
        "\n",
        "    # Assembler toutes les caractéristiques\n",
        "    assembler = VectorAssembler(\n",
        "        inputCols=[\"features\", \"review_len\", \"word_count\"],\n",
        "        outputCol=\"all_features\"\n",
        "    )\n",
        "\n",
        "    return [tokenizer, stopwords_remover, count_vectorizer, idf, string_indexer, assembler]"
      ],
      "metadata": {
        "id": "79rqXzUgkEX9"
      },
      "execution_count": 16,
      "outputs": []
    },
    {
      "cell_type": "markdown",
      "source": [
        "### 6.2 Définition des modèles"
      ],
      "metadata": {
        "id": "U6oRqwiMkXdD"
      }
    },
    {
      "cell_type": "markdown",
      "source": [
        "Initialisation de trois algorithmes :\n",
        "- Régression logistique\n",
        "- Arbre de décision\n",
        "- Forêt aléatoire"
      ],
      "metadata": {
        "id": "WuoWBlDzkaw3"
      }
    },
    {
      "cell_type": "code",
      "source": [
        "def create_model_pipelines(feature_pipeline):\n",
        "    \"\"\"Création des pipelines de modèles\"\"\"\n",
        "    # Définition des modèles\n",
        "    lr = LogisticRegression(maxIter=100, regParam=0.1, elasticNetParam=0.0, featuresCol=\"all_features\", weightCol=\"weight\")\n",
        "    dt = DecisionTreeClassifier(maxDepth=10, featuresCol=\"all_features\", weightCol=\"weight\")\n",
        "    rf = RandomForestClassifier(numTrees=100, maxDepth=10, featuresCol=\"all_features\", weightCol=\"weight\")\n",
        "\n",
        "    # Création des pipelines\n",
        "    lr_pipeline = Pipeline(stages=feature_pipeline + [lr])\n",
        "    dt_pipeline = Pipeline(stages=feature_pipeline + [dt])\n",
        "    rf_pipeline = Pipeline(stages=feature_pipeline + [rf])\n",
        "\n",
        "    return {\n",
        "        \"Logistic Regression\": lr_pipeline,\n",
        "        \"Decision Tree\": dt_pipeline,\n",
        "        \"Random Forest\": rf_pipeline\n",
        "    }"
      ],
      "metadata": {
        "id": "-rnr2yLBkU9v"
      },
      "execution_count": 17,
      "outputs": []
    },
    {
      "cell_type": "markdown",
      "source": [
        "## 7. Entraînement et évaluation"
      ],
      "metadata": {
        "id": "8o4KhyWfkjsx"
      }
    },
    {
      "cell_type": "markdown",
      "source": [
        "### 7.1 Entraînement et Evaluatuion Pour Un Seul Modèle"
      ],
      "metadata": {
        "id": "c9ED2OJRkmNE"
      }
    },
    {
      "cell_type": "markdown",
      "source": [
        "Cette fonction effectue l’entraînement et l’évaluation d’un modèle de classification **Spark MLlib** à l’aide d’un pipeline donné.  \n",
        "Elle prend en entrée :\n",
        "\n",
        "- un **pipeline** (`Pipeline`),\n",
        "- un **nom de modèle** (chaîne de caractères),\n",
        "- trois jeux de données : `train_data`, `val_data`, `test_data`.\n",
        "\n",
        "📌 Étapes réalisées :\n",
        "\n",
        "1. **Entraînement** du modèle sur les données d'entraînement (`train_data`).\n",
        "2. **Évaluation sur le jeu de validation** pour mesurer la performance initiale.\n",
        "3. **Évaluation finale sur le jeu de test**, avec calcul des éléments suivants :\n",
        "   - ✅ **Précision globale** (accuracy),\n",
        "   - 📊 **Matrice de confusion** affichée sous forme de **tableau** et de **heatmap**,\n",
        "   - 🔍 **Métriques par classe** : précision, rappel, F1-score,\n",
        "   - 📈 **Métriques globales pondérées** : `weightedPrecision`, `weightedRecall`, `f1`.\n",
        "4. 📁 **Visualisation et sauvegarde** de la matrice de confusion sous forme d'image `.png`.\n",
        "\n",
        "Cette fonction permet de comparer plusieurs modèles de manière systématique, claire et visuelle."
      ],
      "metadata": {
        "id": "HXjvMFEkljmz"
      }
    },
    {
      "cell_type": "code",
      "source": [
        "def train_and_evaluate_model(pipeline, name, train_data, val_data, test_data):\n",
        "    \"\"\"Entraînement et évaluation d'un modèle avec métriques détaillées\"\"\"\n",
        "    print(f\"\\nEntraînement du modèle {name}...\")\n",
        "\n",
        "    evaluator = MulticlassClassificationEvaluator(\n",
        "        labelCol=\"label\",\n",
        "        predictionCol=\"prediction\",\n",
        "        metricName=\"accuracy\"\n",
        "    )\n",
        "\n",
        "    # Entraînement du modèle\n",
        "    model = pipeline.fit(train_data)\n",
        "\n",
        "    # Évaluation sur la validation\n",
        "    val_predictions = model.transform(val_data)\n",
        "    val_accuracy = evaluator.evaluate(val_predictions)\n",
        "    print(f\"{name} - Validation Accuracy: {val_accuracy:.4f}\")\n",
        "\n",
        "    # Évaluation sur le test\n",
        "    test_predictions = model.transform(test_data)\n",
        "    test_accuracy = evaluator.evaluate(test_predictions)\n",
        "    print(f\"{name} - Test Accuracy: {test_accuracy:.4f}\")\n",
        "\n",
        "    # Récupération des labels\n",
        "    string_indexer = [stage for stage in model.stages if isinstance(stage, StringIndexerModel)][0]\n",
        "    labels = string_indexer.labels\n",
        "\n",
        "    # Matrice de confusion\n",
        "    test_results = test_predictions.select(\"label\", \"prediction\").toPandas()\n",
        "    conf_matrix = pd.crosstab(\n",
        "        test_results['label'],\n",
        "        test_results['prediction'],\n",
        "        rownames=['Réel'],\n",
        "        colnames=['Prédit']\n",
        "    )\n",
        "\n",
        "    # Affichage dans le terminal\n",
        "    print(f\"\\nMatrice de confusion ({name}):\")\n",
        "    print(conf_matrix)\n",
        "\n",
        "    # Visualisation et sauvegarde\n",
        "    plt.figure(figsize=(10,7))\n",
        "    sns.heatmap(conf_matrix, annot=True, fmt='d', cmap='Blues',\n",
        "                xticklabels=labels, yticklabels=labels)\n",
        "    plt.title(f'Matrice de confusion - {name}')\n",
        "    plt.savefig(f'confusion_matrix_{name}.png')\n",
        "    plt.close()\n",
        "\n",
        "    # Calcul des métriques par classe\n",
        "    print(f\"\\nMétriques détaillées ({name}):\")\n",
        "    for i, label in enumerate(labels):\n",
        "        tp = conf_matrix.loc[i,i]\n",
        "        fp = conf_matrix[i].sum() - tp\n",
        "        fn = conf_matrix.loc[i].sum() - tp\n",
        "\n",
        "        precision = tp / (tp + fp) if (tp + fp) > 0 else 0\n",
        "        recall = tp / (tp + fn) if (tp + fn) > 0 else 0\n",
        "        f1 = 2 * (precision * recall) / (precision + recall) if (precision + recall) > 0 else 0\n",
        "\n",
        "        print(f\"Classe {label}:\")\n",
        "        print(f\"  Precision: {precision:.4f}\")\n",
        "        print(f\"  Rappel:    {recall:.4f}\")\n",
        "        print(f\"  F1-score:  {f1:.4f}\\n\")\n",
        "\n",
        "    # Métriques globales\n",
        "    evaluator.setMetricName(\"weightedPrecision\")\n",
        "    precision = evaluator.evaluate(test_predictions)\n",
        "    evaluator.setMetricName(\"weightedRecall\")\n",
        "    recall = evaluator.evaluate(test_predictions)\n",
        "    evaluator.setMetricName(\"f1\")\n",
        "    f1 = evaluator.evaluate(test_predictions)\n",
        "\n",
        "    print(f\"Métriques globales:\")\n",
        "    print(f\"  Precision moyenne: {precision:.4f}\")\n",
        "    print(f\"  Rappel moyen:     {recall:.4f}\")\n",
        "    print(f\"  F1-score moyen:   {f1:.4f}\")\n",
        "\n",
        "    return val_accuracy, model"
      ],
      "metadata": {
        "id": "POQtNTyKkewp"
      },
      "execution_count": 18,
      "outputs": []
    },
    {
      "cell_type": "markdown",
      "source": [
        "### 7.2 Entraînement et Evaluatuion Pour Tous Les Modèles"
      ],
      "metadata": {
        "id": "nqMU1-7Nk2XL"
      }
    },
    {
      "cell_type": "code",
      "source": [
        "def train_all_models(model_pipelines, balanced_train_df, val_spark_df, test_spark_df):\n",
        "    \"\"\"Entraînement et évaluation de tous les modèles\"\"\"\n",
        "    print(\"\\n====== Entraînement et évaluation des modèles PySpark ======\")\n",
        "\n",
        "    # Dictionnaire pour stocker les résultats\n",
        "    model_results = {}\n",
        "\n",
        "    # Entraînement et évaluation des modèles\n",
        "    for name, pipeline in model_pipelines.items():\n",
        "        model_results[name] = train_and_evaluate_model(pipeline, name, balanced_train_df, val_spark_df, test_spark_df)\n",
        "\n",
        "    # Sélection du meilleur modèle\n",
        "    best_model_name = max(model_results.items(), key=lambda x: x[1][0])[0]\n",
        "    best_accuracy, best_model = model_results[best_model_name]\n",
        "\n",
        "    print(f\"\\nMeilleur modèle PySpark: {best_model_name} avec une précision de {best_accuracy:.4f}\")\n",
        "\n",
        "    return best_model_name, best_model"
      ],
      "metadata": {
        "id": "1tFMDYaOk1Rl"
      },
      "execution_count": 19,
      "outputs": []
    },
    {
      "cell_type": "markdown",
      "source": [
        "## 8. Déploiement"
      ],
      "metadata": {
        "id": "SqiR0G4imqcm"
      }
    },
    {
      "cell_type": "markdown",
      "source": [
        "### 8.1 Sauvegarde du meilleur modèle"
      ],
      "metadata": {
        "id": "YiRVw63dmyvF"
      }
    },
    {
      "cell_type": "markdown",
      "source": [
        "*Conservation du modèle ayant obtenu les meilleures performances pour une utilisation future.*"
      ],
      "metadata": {
        "id": "I75P9drGm1pa"
      }
    },
    {
      "cell_type": "code",
      "source": [
        "def save_model(model, path):\n",
        "    \"\"\"Sauvegarde du modèle\"\"\"\n",
        "    print(\"\\n====== Sauvegarde du meilleur modèle ======\")\n",
        "    model.save(path)\n",
        "    print(f\"Meilleur modèle sauvegardé avec succès à {path}!\")"
      ],
      "metadata": {
        "id": "rdoZLDevmlf_"
      },
      "execution_count": 20,
      "outputs": []
    },
    {
      "cell_type": "markdown",
      "source": [
        "### 8.2 Fonction de prédiction"
      ],
      "metadata": {
        "id": "d--yUBVJnAod"
      }
    },
    {
      "cell_type": "markdown",
      "source": [
        "*Création d'une fonction capable de prédire le sentiment sur de nouveaux textes.*"
      ],
      "metadata": {
        "id": "pf-0UAF9nDRn"
      }
    },
    {
      "cell_type": "code",
      "source": [
        "def create_prediction_function(spark, model):\n",
        "    \"\"\"Création d'une fonction de prédiction pour de nouvelles données\"\"\"\n",
        "    # Importation des fonctions nécessaires pour la prédiction\n",
        "    from pyspark.sql.functions import length, size, split, col, lit\n",
        "\n",
        "    # Définition des UDFs pour les fonctions de nettoyage\n",
        "    clean_text_udf = udf(clean_text, StringType())\n",
        "    preprocess_text_udf = udf(preprocess_text, StringType())\n",
        "\n",
        "    def predict_sentiment(text):\n",
        "        # Création d'un DataFrame avec une seule ligne\n",
        "        data = [(text,)]\n",
        "        schema = [\"text\"]\n",
        "        test_df = spark.createDataFrame(data, schema)\n",
        "\n",
        "        # Application des mêmes transformations que dans le pipeline\n",
        "        test_df = test_df.withColumn(\"reviews\", col(\"text\"))\n",
        "        test_df = test_df.withColumn(\"cleaned_reviews\", clean_text_udf(\"reviews\"))\n",
        "        test_df = test_df.withColumn(\"processed_reviews\", preprocess_text_udf(\"cleaned_reviews\"))\n",
        "\n",
        "        # Calcul des caractéristiques nécessaires\n",
        "        test_df = test_df.withColumn(\"review_len\", length(col(\"reviews\")))\n",
        "        test_df = test_df.withColumn(\"word_count\", size(split(col(\"reviews\"), \" \")))\n",
        "\n",
        "        # Ajout de la colonne de poids\n",
        "        test_df = test_df.withColumn(\"weight\", lit(1.0))\n",
        "\n",
        "        # Prédiction\n",
        "        prediction = model.transform(test_df)\n",
        "        result = prediction.select(\"prediction\").collect()[0][0]\n",
        "\n",
        "        # Conversion de la prédiction numérique en étiquette\n",
        "        sentiment_labels = {0: \"Negative\", 1: \"Neutral\", 2: \"Positive\"}\n",
        "        return sentiment_labels[result]\n",
        "\n",
        "    return predict_sentiment"
      ],
      "metadata": {
        "id": "F4WZkRo0m-MN"
      },
      "execution_count": 21,
      "outputs": []
    },
    {
      "cell_type": "markdown",
      "source": [
        "## 9. Démonstration"
      ],
      "metadata": {
        "id": "DLGX00xanT91"
      }
    },
    {
      "cell_type": "markdown",
      "source": [
        "Cette fonction permet de **tester le modèle de prédiction de sentiment** sur des exemples concrets appartenant à **chaque classe possible** (positif, neutre, négatif).  \n",
        "Elle est utile pour évaluer rapidement et visuellement la **cohérence des prédictions du modèle sur des phrases courantes**.\n",
        "\n",
        " 📌 Contenu de la fonction :\n",
        "\n",
        "- Création de **3 exemples** pour **chaque classe** :\n",
        "  -  **Exemples positifs** : commentaires enthousiastes ou très satisfaits.\n",
        "  -  **Exemples neutres** : commentaires modérés ou mitigés.\n",
        "  -  **Exemples négatifs** : commentaires critiques ou très insatisfaits.\n",
        "\n",
        "- Chaque exemple est passé à la fonction `predict_sentiment`, qui retourne la prédiction du modèle (ex. : `positive`, `neutral`, `negative`).\n",
        "\n",
        "- Les résultats sont affichés dans la console, ce qui permet une vérification rapide de la performance du modèle sur des cas typiques."
      ],
      "metadata": {
        "id": "PaDmfiQ9n1kL"
      }
    },
    {
      "cell_type": "code",
      "source": [
        "def test_examples(predict_sentiment):\n",
        "    \"\"\"Test avec des exemples de différentes classes\"\"\"\n",
        "    print(\"\\n====== Test avec des exemples de différentes classes ======\")\n",
        "\n",
        "    # Exemples positifs\n",
        "    positive_examples = [\n",
        "        \"This product is absolutely amazing! I love it so much.\",\n",
        "        \"Best purchase I've made this year, highly recommended!\",\n",
        "        \"The quality exceeded my expectations, worth every penny.\"\n",
        "    ]\n",
        "\n",
        "    # Exemples neutres\n",
        "    neutral_examples = [\n",
        "        \"The product is okay, nothing special but gets the job done.\",\n",
        "        \"It's fine, I expected more for the price but it's acceptable.\",\n",
        "        \"Not bad, not great - just average.\"\n",
        "    ]\n",
        "\n",
        "    # Exemples négatifs\n",
        "    negative_examples = [\n",
        "        \"Terrible product, broke after just one use!\",\n",
        "        \"Waste of money, completely disappointed with this purchase.\",\n",
        "        \"The worst quality I've ever seen, do not recommend.\"\n",
        "    ]\n",
        "\n",
        "    # Test des exemples\n",
        "    print(\"\\nPrédictions pour les exemples positifs:\")\n",
        "    for example in positive_examples:\n",
        "        print(f\"'{example[:50]}...' → {predict_sentiment(example)}\")\n",
        "\n",
        "    print(\"\\nPrédictions pour les exemples neutres:\")\n",
        "    for example in neutral_examples:\n",
        "        print(f\"'{example[:50]}...' → {predict_sentiment(example)}\")\n",
        "\n",
        "    print(\"\\nPrédictions pour les exemples négatifs:\")\n",
        "    for example in negative_examples:\n",
        "        print(f\"'{example[:50]}...' → {predict_sentiment(example)}\")"
      ],
      "metadata": {
        "id": "reLpS3u_nKaR"
      },
      "execution_count": 22,
      "outputs": []
    },
    {
      "cell_type": "markdown",
      "source": [
        "## 10.Main"
      ],
      "metadata": {
        "id": "xf0Td1Z-oaw-"
      }
    },
    {
      "cell_type": "markdown",
      "source": [
        "La fonction `main()` constitue le **point d'entrée principal du script**.  \n",
        "Elle orchestre l'ensemble des étapes du pipeline de traitement et de classification des sentiments à partir d'un fichier JSON contenant des avis clients.\n",
        "\n",
        "📌 Étapes réalisées :\n",
        "\n",
        "1. 📥 **Téléchargement des ressources NLTK** nécessaires pour le nettoyage de texte (`stopwords`, `punkt`, etc.).\n",
        "2. 🔧 **Initialisation de la session Spark**, moteur de traitement distribué utilisé pour la scalabilité.\n",
        "3. 📂 **Chargement des données** à partir d’un fichier JSON (`/content/Data.json`).\n",
        "4. 🧹 **Prétraitement initial** des données (suppression des valeurs manquantes, formatage).\n",
        "5. ✍️ **Nettoyage des textes** (tokenisation, suppression des stopwords, etc.).\n",
        "6. 📊 **Visualisation exploratoire** pour mieux comprendre la répartition des sentiments.\n",
        "7. 🔄 **Conversion vers un DataFrame Spark** pour traitement distribué.\n",
        "8. ✂️ **Découpage des données** en ensembles d'entraînement, de validation et de test.\n",
        "9. ⚖️ **Équilibrage des classes** pour éviter les biais lors de l'entraînement.\n",
        "10. 🏗️ **Création du pipeline de traitement de texte** (TF-IDF, vectorisation...).\n",
        "11. 🤖 **Création de plusieurs pipelines de modèles** de classification (ex : Logistic Regression, Random Forest...).\n",
        "12. 🧪 **Entraînement et évaluation de tous les modèles** sur les jeux de validation et de test.\n",
        "13. 💾 **Sauvegarde du meilleur modèle entraîné** sur le disque.\n",
        "14. 🧠 **Création d’une fonction de prédiction** permettant d’inférer le sentiment d’un texte libre.\n",
        "15. 🧪 **Tests du modèle** sur des exemples réels (positifs, neutres, négatifs).\n",
        "16. 🛑 **Fermeture propre de la session Spark** une fois le script terminé.\n",
        "\n",
        "> Cette fonction coordonne **l'ensemble du flux de traitement de données à la prédiction finale**, assurant un pipeline complet, automatisé et reproductible."
      ],
      "metadata": {
        "id": "3pMGaEUgogtB"
      }
    },
    {
      "cell_type": "code",
      "source": [
        "def main():\n",
        "    \"\"\"Fonction principale\"\"\"\n",
        "    # Téléchargement des ressources NLTK\n",
        "    download_nltk_resources()\n",
        "\n",
        "    # Initialisation de la session Spark\n",
        "    spark = initialize_spark()\n",
        "\n",
        "    try:\n",
        "        # Chargement des données\n",
        "        df = load_data('/content/Data.json')\n",
        "\n",
        "        # Prétraitement des données\n",
        "        df_processed = preprocess_dataframe(df)\n",
        "\n",
        "        # Application du prétraitement de texte\n",
        "        df_processed = apply_text_preprocessing(df_processed)\n",
        "\n",
        "        # Visualisation des données\n",
        "        visualize_data(df_processed)\n",
        "\n",
        "        # Conversion en DataFrame Spark\n",
        "        spark_df = convert_to_spark_df(spark, df_processed)\n",
        "\n",
        "        # Division des données\n",
        "        train_spark_df, val_spark_df, test_spark_df = split_data(spark_df)\n",
        "\n",
        "        # Équilibrage des classes\n",
        "        balanced_train_df = balance_classes(train_spark_df)\n",
        "\n",
        "        # Création de la pipeline de traitement des caractéristiques\n",
        "        feature_pipeline = create_feature_pipeline()\n",
        "\n",
        "        # Création des pipelines de modèles\n",
        "        model_pipelines = create_model_pipelines(feature_pipeline)\n",
        "\n",
        "        # Entraînement et évaluation des modèles\n",
        "        best_model_name, best_model = train_all_models(model_pipelines, balanced_train_df, val_spark_df, test_spark_df)\n",
        "\n",
        "        # Sauvegarde du meilleur modèle\n",
        "        save_model(best_model,\"/content/prod_model\")\n",
        "\n",
        "        # Création d'une fonction de prédiction\n",
        "        predict_sentiment = create_prediction_function(spark, best_model)\n",
        "\n",
        "        # Test avec des exemples\n",
        "        test_examples(predict_sentiment)\n",
        "\n",
        "    finally:\n",
        "        # Arrêt de la session Spark\n",
        "        spark.stop()\n",
        "        print(\"\\n====== Fin du script ======\")"
      ],
      "metadata": {
        "id": "KuSp4Comngxs"
      },
      "execution_count": 23,
      "outputs": []
    },
    {
      "cell_type": "markdown",
      "source": [
        "### Exécution"
      ],
      "metadata": {
        "id": "ROg61JZPovqJ"
      }
    },
    {
      "cell_type": "code",
      "source": [
        "if __name__ == \"__main__\":\n",
        "    # Exécution du script\n",
        "    main()"
      ],
      "metadata": {
        "colab": {
          "base_uri": "https://localhost:8080/"
        },
        "id": "xC3GFCzJotIN",
        "outputId": "7a90a801-6cd6-4aff-8dc1-12c290955565"
      },
      "execution_count": 24,
      "outputs": [
        {
          "output_type": "stream",
          "name": "stderr",
          "text": [
            "[nltk_data] Downloading package stopwords to /root/nltk_data...\n",
            "[nltk_data]   Unzipping corpora/stopwords.zip.\n",
            "[nltk_data] Downloading package punkt to /root/nltk_data...\n",
            "[nltk_data]   Unzipping tokenizers/punkt.zip.\n",
            "[nltk_data] Downloading package wordnet to /root/nltk_data...\n",
            "[nltk_data] Downloading package punkt_tab to /root/nltk_data...\n",
            "[nltk_data]   Unzipping tokenizers/punkt_tab.zip.\n"
          ]
        },
        {
          "output_type": "stream",
          "name": "stdout",
          "text": [
            "Spark version: 3.5.1\n",
            "Chargement des données...\n",
            "Aperçu des données:\n",
            "       reviewerID        asin  \\\n",
            "0  A2IBPI20UZIR0U  1384719342   \n",
            "1  A14VAT5EAX3D9S  1384719342   \n",
            "2  A195EZSQDW3E21  1384719342   \n",
            "3  A2C00NNG1ZQQG2  1384719342   \n",
            "4   A94QU4C90B1AX  1384719342   \n",
            "\n",
            "                                       reviewerName   helpful  \\\n",
            "0  cassandra tu \"Yeah, well, that's just like, u...    [0, 0]   \n",
            "1                                              Jake  [13, 14]   \n",
            "2                     Rick Bennette \"Rick Bennette\"    [1, 1]   \n",
            "3                         RustyBill \"Sunday Rocker\"    [0, 0]   \n",
            "4                                     SEAN MASLANKA    [0, 0]   \n",
            "\n",
            "                                          reviewText  overall  \\\n",
            "0  Not much to write about here, but it does exac...      5.0   \n",
            "1  The product does exactly as it should and is q...      5.0   \n",
            "2  The primary job of this device is to block the...      5.0   \n",
            "3  Nice windscreen protects my MXL mic and preven...      5.0   \n",
            "4  This pop filter is great. It looks and perform...      5.0   \n",
            "\n",
            "                                 summary  unixReviewTime   reviewTime  \n",
            "0                                   good      1393545600  02 28, 2014  \n",
            "1                                   Jake      1363392000  03 16, 2013  \n",
            "2                   It Does The Job Well      1377648000  08 28, 2013  \n",
            "3          GOOD WINDSCREEN FOR THE MONEY      1392336000  02 14, 2014  \n",
            "4  No more pops when I record my vocals.      1392940800  02 21, 2014  \n",
            "\n",
            "Prétraitement des données...\n",
            "\n",
            "Application du prétraitement de texte...\n",
            "\n",
            "Visualisation des données...\n",
            "\n",
            "Distribution des sentiments:\n",
            "sentiment\n",
            "Positive    9022\n",
            "Neutral      772\n",
            "Negative     467\n",
            "Name: count, dtype: int64\n",
            "\n",
            "Conversion des données en DataFrame Spark...\n",
            "\n",
            "Aperçu du DataFrame Spark:\n",
            "+---------------------------------------------------------------------------------------------------------------------------------------------------------------------------------------------------------------------------------------------------------------------------------------------------------------------------------------------------------------------------------------------------------------------------------------------------------------------------------------------------------------------------------------------------------------------+---------+----------+----------+-----------------------------------------------------------------------------------------------------------------------------------------------------------------------------------------------------------------------------------------------------------------------------------------------------------------------------------------------------------------------------------------------------------------------------------------------------------------------------------------------------------------------------------------------------+------------------------------------------------------------------------------------------------------------------------------------------------------------------------------------------------------------------------------------------------------------------------------------------------------------------------------------------------+\n",
            "|reviews                                                                                                                                                                                                                                                                                                                                                                                                                                                                                                                                                              |sentiment|review_len|word_count|cleaned_reviews                                                                                                                                                                                                                                                                                                                                                                                                                                                                                                                                      |processed_reviews                                                                                                                                                                                                                                                                                                                               |\n",
            "+---------------------------------------------------------------------------------------------------------------------------------------------------------------------------------------------------------------------------------------------------------------------------------------------------------------------------------------------------------------------------------------------------------------------------------------------------------------------------------------------------------------------------------------------------------------------+---------+----------+----------+-----------------------------------------------------------------------------------------------------------------------------------------------------------------------------------------------------------------------------------------------------------------------------------------------------------------------------------------------------------------------------------------------------------------------------------------------------------------------------------------------------------------------------------------------------+------------------------------------------------------------------------------------------------------------------------------------------------------------------------------------------------------------------------------------------------------------------------------------------------------------------------------------------------+\n",
            "|Not much to write about here, but it does exactly what it's supposed to. filters out the pop sounds. now my recordings are much more crisp. it is one of the lowest prices pop filters on amazon so might as well buy it, they honestly work the same despite their pricing, good                                                                                                                                                                                                                                                                                    |Positive |273       |52        |not much to write about here but it does exactly what its supposed to filters out the pop sounds now my recordings are much more crisp it is one of the lowest prices pop filters on amazon so might as well buy it they honestly work the same despite their pricing good                                                                                                                                                                                                                                                                           |much write exactly supposed filter pop sound recording much crisp one lowest price pop filter amazon might well buy honestly work despite pricing good                                                                                                                                                                                          |\n",
            "|The product does exactly as it should and is quite affordable.I did not realized it was double screened until it arrived, so it was even better than I had expected.As an added bonus, one of the screens carries a small hint of the smell of an old grape candy I used to buy, so for reminiscent's sake, I cannot stop putting the pop filter next to my nose and smelling it after recording. :DIf you needed a pop filter, this will work just as well as the expensive ones, and it may even come with a pleasing aroma like mine did!Buy this product! :] Jake|Positive |549       |105       |the product does exactly as it should and is quite affordablei did not realized it was double screened until it arrived so it was even better than i had expectedas an added bonus one of the screens carries a small hint of the smell of an old grape candy i used to buy so for reminiscents sake i cannot stop putting the pop filter next to my nose and smelling it after recording dif you needed a pop filter this will work just as well as the expensive ones and it may even come with a pleasing aroma like mine didbuy this product jake|product exactly quite affordablei realized double screened arrived even better expectedas added bonus one screen carry small hint smell old grape candy used buy reminiscents sake stop putting pop filter next nose smelling recording dif needed pop filter work well expensive one may even come pleasing aroma like mine didbuy product jake|\n",
            "|The primary job of this device is to block the breath that would otherwise produce a popping sound, while allowing your voice to pass through with no noticeable reduction of volume or high frequencies. The double cloth filter blocks the pops and lets the voice through with no coloration. The metal clamp mount attaches to the mike stand secure enough to keep it attached. The goose neck needs a little coaxing to stay where you put it. It Does The Job Well                                                                                            |Positive |457       |82        |the primary job of this device is to block the breath that would otherwise produce a popping sound while allowing your voice to pass through with no noticeable reduction of volume or high frequencies the double cloth filter blocks the pops and lets the voice through with no coloration the metal clamp mount attaches to the mike stand secure enough to keep it attached the goose neck needs a little coaxing to stay where you put it it does the job well                                                                                 |primary job device block breath would otherwise produce popping sound allowing voice pas noticeable reduction volume high frequency double cloth filter block pop let voice coloration metal clamp mount attache mike stand secure enough keep attached goose neck need little coaxing stay put job well                                        |\n",
            "|Nice windscreen protects my MXL mic and prevents pops. Only thing is that the gooseneck is only marginally able to hold the screen in position and requires careful positioning of the clamp to avoid sagging. GOOD WINDSCREEN FOR THE MONEY                                                                                                                                                                                                                                                                                                                         |Positive |236       |40        |nice windscreen protects my mxl mic and prevents pops only thing is that the gooseneck is only marginally able to hold the screen in position and requires careful positioning of the clamp to avoid sagging good windscreen for the money                                                                                                                                                                                                                                                                                                           |nice windscreen protects mxl mic prevents pop thing gooseneck marginally able hold screen position requires careful positioning clamp avoid sagging good windscreen money                                                                                                                                                                       |\n",
            "|This pop filter is great. It looks and performs like a studio filter. If you're recording vocals this will eliminate the pops that gets recorded when you sing. No more pops when I record my vocals.                                                                                                                                                                                                                                                                                                                                                                |Positive |197       |36        |this pop filter is great it looks and performs like a studio filter if youre recording vocals this will eliminate the pops that gets recorded when you sing no more pops when i record my vocals                                                                                                                                                                                                                                                                                                                                                     |pop filter great look performs like studio filter youre recording vocal eliminate pop get recorded sing pop record vocal                                                                                                                                                                                                                        |\n",
            "+---------------------------------------------------------------------------------------------------------------------------------------------------------------------------------------------------------------------------------------------------------------------------------------------------------------------------------------------------------------------------------------------------------------------------------------------------------------------------------------------------------------------------------------------------------------------+---------+----------+----------+-----------------------------------------------------------------------------------------------------------------------------------------------------------------------------------------------------------------------------------------------------------------------------------------------------------------------------------------------------------------------------------------------------------------------------------------------------------------------------------------------------------------------------------------------------+------------------------------------------------------------------------------------------------------------------------------------------------------------------------------------------------------------------------------------------------------------------------------------------------------------------------------------------------+\n",
            "only showing top 5 rows\n",
            "\n",
            "\n",
            "Division des données...\n",
            "Taille de l'ensemble d'entraînement: 8262\n",
            "Taille de l'ensemble de validation: 1005\n",
            "Taille de l'ensemble de test: 994\n",
            "\n",
            "Équilibrage des classes par sur-échantillonnage...\n",
            "Classe majoritaire: Positive avec 7240 observations\n",
            "Classe Positive: 7240 observations (inchangée)\n",
            "Classe Neutral: 646 → 7240 observations après sur-échantillonnage\n",
            "Classe Negative: 376 → 7240 observations après sur-échantillonnage\n",
            "Ensemble d'entraînement après équilibrage: 21720 observations\n",
            "\n",
            "Distribution des classes après équilibrage:\n",
            "Positive: 7240\n",
            "Neutral: 7240\n",
            "Negative: 7240\n",
            "\n",
            "====== Entraînement et évaluation des modèles PySpark ======\n",
            "\n",
            "Entraînement du modèle Logistic Regression...\n",
            "Logistic Regression - Validation Accuracy: 0.8796\n",
            "Logistic Regression - Test Accuracy: 0.8753\n",
            "\n",
            "Matrice de confusion (Logistic Regression):\n",
            "Prédit  0.0  1.0  2.0\n",
            "Réel                 \n",
            "0.0      13    8   28\n",
            "1.0       3   15   38\n",
            "2.0       7   40  842\n",
            "\n",
            "Métriques détaillées (Logistic Regression):\n",
            "Classe Negative:\n",
            "  Precision: 0.5652\n",
            "  Rappel:    0.2653\n",
            "  F1-score:  0.3611\n",
            "\n",
            "Classe Neutral:\n",
            "  Precision: 0.2381\n",
            "  Rappel:    0.2679\n",
            "  F1-score:  0.2521\n",
            "\n",
            "Classe Positive:\n",
            "  Precision: 0.9273\n",
            "  Rappel:    0.9471\n",
            "  F1-score:  0.9371\n",
            "\n",
            "Métriques globales:\n",
            "  Precision moyenne: 0.8706\n",
            "  Rappel moyen:     0.8753\n",
            "  F1-score moyen:   0.8701\n",
            "\n",
            "Entraînement du modèle Decision Tree...\n",
            "Decision Tree - Validation Accuracy: 0.5184\n",
            "Decision Tree - Test Accuracy: 0.5161\n",
            "\n",
            "Matrice de confusion (Decision Tree):\n",
            "Prédit  0.0  1.0  2.0\n",
            "Réel                 \n",
            "0.0      26    9   14\n",
            "1.0      21   17   18\n",
            "2.0     309  110  470\n",
            "\n",
            "Métriques détaillées (Decision Tree):\n",
            "Classe Negative:\n",
            "  Precision: 0.0730\n",
            "  Rappel:    0.5306\n",
            "  F1-score:  0.1284\n",
            "\n",
            "Classe Neutral:\n",
            "  Precision: 0.1250\n",
            "  Rappel:    0.3036\n",
            "  F1-score:  0.1771\n",
            "\n",
            "Classe Positive:\n",
            "  Precision: 0.9363\n",
            "  Rappel:    0.5287\n",
            "  F1-score:  0.6758\n",
            "\n",
            "Métriques globales:\n",
            "  Precision moyenne: 0.8480\n",
            "  Rappel moyen:     0.5161\n",
            "  F1-score moyen:   0.6207\n",
            "\n",
            "Entraînement du modèle Random Forest...\n",
            "Random Forest - Validation Accuracy: 0.7881\n",
            "Random Forest - Test Accuracy: 0.8149\n",
            "\n",
            "Matrice de confusion (Random Forest):\n",
            "Prédit  0.0  1.0  2.0\n",
            "Réel                 \n",
            "0.0      19   14   16\n",
            "1.0      16   13   27\n",
            "2.0      36   75  778\n",
            "\n",
            "Métriques détaillées (Random Forest):\n",
            "Classe Negative:\n",
            "  Precision: 0.2676\n",
            "  Rappel:    0.3878\n",
            "  F1-score:  0.3167\n",
            "\n",
            "Classe Neutral:\n",
            "  Precision: 0.1275\n",
            "  Rappel:    0.2321\n",
            "  F1-score:  0.1646\n",
            "\n",
            "Classe Positive:\n",
            "  Precision: 0.9476\n",
            "  Rappel:    0.8751\n",
            "  F1-score:  0.9099\n",
            "\n",
            "Métriques globales:\n",
            "  Precision moyenne: 0.8679\n",
            "  Rappel moyen:     0.8149\n",
            "  F1-score moyen:   0.8387\n",
            "\n",
            "Meilleur modèle PySpark: Logistic Regression avec une précision de 0.8796\n",
            "\n",
            "====== Sauvegarde du meilleur modèle ======\n",
            "Meilleur modèle sauvegardé avec succès à /content/prod_model!\n",
            "\n",
            "====== Test avec des exemples de différentes classes ======\n",
            "\n",
            "Prédictions pour les exemples positifs:\n",
            "'This product is absolutely amazing! I love it so m...' → Positive\n",
            "'Best purchase I've made this year, highly recommen...' → Positive\n",
            "'The quality exceeded my expectations, worth every ...' → Positive\n",
            "\n",
            "Prédictions pour les exemples neutres:\n",
            "'The product is okay, nothing special but gets the ...' → Neutral\n",
            "'It's fine, I expected more for the price but it's ...' → Positive\n",
            "'Not bad, not great - just average....' → Positive\n",
            "\n",
            "Prédictions pour les exemples négatifs:\n",
            "'Terrible product, broke after just one use!...' → Negative\n",
            "'Waste of money, completely disappointed with this ...' → Negative\n",
            "'The worst quality I've ever seen, do not recommend...' → Positive\n",
            "\n",
            "====== Fin du script ======\n"
          ]
        }
      ]
    },
    {
      "cell_type": "markdown",
      "source": [
        "## 📊 Analyse des résultats et perspectives d'amélioration\n",
        "\n",
        "### ✅ Résultats obtenus\n",
        "\n",
        "Après avoir testé trois modèles de classification (Logistic Regression, Decision Tree, Random Forest) sur les avis clients Amazon, les résultats montrent que :\n",
        "\n",
        "- **Le modèle de Régression Logistique** est celui qui a obtenu les meilleures performances :\n",
        "  - **Accuracy validation** : 87.96%\n",
        "  - **Accuracy test** : 87.53%\n",
        "  - Très bonne capacité à détecter les avis **positifs** avec un **F1-score de 0.9371**.\n",
        "- En revanche, les classes **Neutral** et surtout **Negative** sont beaucoup moins bien détectées, avec des F1-scores faibles (≈ 0.36 et 0.25).\n",
        "- **Le modèle Random Forest** est le deuxième meilleur, avec une accuracy de 81.49% sur le jeu de test, mais reste lui aussi peu performant sur les classes minoritaires.\n",
        "- **Le Decision Tree** donne les pires performances avec une accuracy autour de 51%.\n",
        "\n",
        "### 📉 Analyse des erreurs\n",
        "\n",
        "- Le déséquilibre initial des classes (majoritairement \"Positive\") est en partie responsable de la mauvaise performance sur les classes \"Neutral\" et \"Negative\".\n",
        "- Malgré le sur-échantillonnage, les modèles semblent encore biaisés vers la classe positive.\n",
        "- Certains exemples \"neutres\" ou \"négatifs\" sont mal classés car leur ton est ambigu ou modéré, ce qui rend la tâche difficile même pour un humain.\n",
        "- Exemple : \"It's fine, I expected more for the price but it's okay.\" → prédit **Positive** au lieu de **Neutral**.\n",
        "\n",
        "---\n",
        "\n",
        "### 🚀 Améliorations futures\n",
        "\n",
        "1. **Meilleur équilibrage des classes** :\n",
        "   - Tester **SMOTE** ou **ADASYN** si disponibles via un wrapper PySpark.\n",
        "   - Expérimenter avec des approches de **ré-échantillonnage stratifié** ou **ajustement de poids dans les modèles**.\n",
        "\n",
        "2. **Enrichissement des features textuelles** :\n",
        "   - Ajouter des **bigrams/trigrams** ou utiliser **TF-IDF** au lieu du simple `CountVectorizer`.\n",
        "   - Tester des représentations de texte avancées comme **Word2Vec**, **Doc2Vec** ou **embeddings préentraînés** (GloVe, BERT via Spark NLP).\n",
        "\n",
        "3. **Modèles avancés** :\n",
        "   - Intégrer des modèles de **Deep Learning** comme des RNNs, LSTMs ou Transformers si passage à PyTorch ou TensorFlow.\n",
        "   - Utiliser **Spark NLP** avec des modèles comme `bert_classifier`.\n",
        "\n",
        "4. **Amélioration de la qualité du prétraitement** :\n",
        "   - Mieux détecter les sarcasmes, intensités, ou modificateurs dans le texte.\n",
        "   - Ajouter des étapes de **normalisation d’émotions** ou d’**analyse syntaxique**.\n",
        "\n",
        "5. **Évaluation plus fine** :\n",
        "   - Utiliser des courbes **ROC-AUC** ou des métriques spécifiques à chaque classe.\n",
        "   - Effectuer une **analyse d'erreur qualitative** sur les faux positifs/faux négatifs pour comprendre les limites des modèles.\n",
        "\n",
        "---\n",
        "\n",
        "### 📌 Conclusion\n",
        "\n",
        "Le système actuel est robuste pour la détection des sentiments **positifs**, mais nécessite des améliorations pour bien gérer les sentiments **neutres** et **négatifs**. Les futures étapes devront viser un **meilleur équilibre des classes**, une **représentation plus riche du texte**, et l’exploration de modèles **plus puissants** et adaptés au traitement du langage naturel.\n",
        "´"
      ],
      "metadata": {
        "id": "Ospnlh_WsKBx"
      }
    }
  ]
}